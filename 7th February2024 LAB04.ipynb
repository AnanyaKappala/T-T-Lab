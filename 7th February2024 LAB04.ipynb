{
 "cells": [
  {
   "cell_type": "code",
   "execution_count": 1,
   "id": "d5a84724",
   "metadata": {},
   "outputs": [
    {
     "name": "stdout",
     "output_type": "stream",
     "text": [
      "3\n"
     ]
    }
   ],
   "source": [
    "mytuple=(\"apple\",\"mango\",\"banana\")\n",
    "print(len(mytuple))"
   ]
  },
  {
   "cell_type": "code",
   "execution_count": 2,
   "id": "a3779cc7",
   "metadata": {},
   "outputs": [
    {
     "name": "stdout",
     "output_type": "stream",
     "text": [
      "<class 'tuple'>\n"
     ]
    }
   ],
   "source": [
    "t=(\"berry\",)\n",
    "print(type(t))"
   ]
  },
  {
   "cell_type": "code",
   "execution_count": 3,
   "id": "7b8d652a",
   "metadata": {},
   "outputs": [
    {
     "ename": "AttributeError",
     "evalue": "'tuple' object has no attribute 'append'",
     "output_type": "error",
     "traceback": [
      "\u001b[1;31m---------------------------------------------------------------------------\u001b[0m",
      "\u001b[1;31mAttributeError\u001b[0m                            Traceback (most recent call last)",
      "Cell \u001b[1;32mIn[3], line 2\u001b[0m\n\u001b[0;32m      1\u001b[0m mytuple\u001b[38;5;241m=\u001b[39m(\u001b[38;5;124m\"\u001b[39m\u001b[38;5;124mapple\u001b[39m\u001b[38;5;124m\"\u001b[39m,\u001b[38;5;124m\"\u001b[39m\u001b[38;5;124mmango\u001b[39m\u001b[38;5;124m\"\u001b[39m,\u001b[38;5;124m\"\u001b[39m\u001b[38;5;124mbanana\u001b[39m\u001b[38;5;124m\"\u001b[39m)\n\u001b[1;32m----> 2\u001b[0m mytuple\u001b[38;5;241m.\u001b[39mappend(\u001b[38;5;124m\"\u001b[39m\u001b[38;5;124mcherry\u001b[39m\u001b[38;5;124m\"\u001b[39m)\n\u001b[0;32m      3\u001b[0m \u001b[38;5;28mprint\u001b[39m(mytuple)\n",
      "\u001b[1;31mAttributeError\u001b[0m: 'tuple' object has no attribute 'append'"
     ]
    }
   ],
   "source": [
    "mytuple=(\"apple\",\"mango\",\"banana\")\n",
    "mytuple.append(\"cherry\")\n",
    "print(mytuple)"
   ]
  },
  {
   "cell_type": "code",
   "execution_count": 4,
   "id": "3200b23c",
   "metadata": {},
   "outputs": [
    {
     "name": "stdout",
     "output_type": "stream",
     "text": [
      "('apple', 'mango', 'banana', 'cherry')\n"
     ]
    }
   ],
   "source": [
    "mytuple=(\"apple\",\"mango\",\"banana\")\n",
    "y=list(mytuple)\n",
    "y.append(\"cherry\")\n",
    "mytuple=tuple(y)\n",
    "print(mytuple)"
   ]
  },
  {
   "cell_type": "code",
   "execution_count": 5,
   "id": "2a496aac",
   "metadata": {},
   "outputs": [
    {
     "name": "stdout",
     "output_type": "stream",
     "text": [
      "apple\n",
      "mango\n",
      "banana\n"
     ]
    }
   ],
   "source": [
    "#unpacking a tuple\n",
    "mytuple=(\"apple\",\"mango\",\"banana\")\n",
    "(green,yellow,red)=mytuple\n",
    "print(green)\n",
    "print(yellow)\n",
    "print(red)"
   ]
  },
  {
   "cell_type": "code",
   "execution_count": 6,
   "id": "02c6708a",
   "metadata": {},
   "outputs": [
    {
     "name": "stdout",
     "output_type": "stream",
     "text": [
      "apple\n",
      "mango\n",
      "['banana', 'kiwi', 'orange', 'cherry']\n"
     ]
    }
   ],
   "source": [
    "mytuple=(\"apple\",\"mango\",\"banana\",\"kiwi\",\"orange\",\"cherry\")\n",
    "(green,yellow,*red)=mytuple\n",
    "print(green)\n",
    "print(yellow)\n",
    "print(red)"
   ]
  },
  {
   "cell_type": "code",
   "execution_count": 7,
   "id": "92a31acb",
   "metadata": {},
   "outputs": [
    {
     "name": "stdout",
     "output_type": "stream",
     "text": [
      "apple\n",
      "['mango', 'banana', 'kiwi', 'orange']\n",
      "cherry\n"
     ]
    }
   ],
   "source": [
    "mytuple=(\"apple\",\"mango\",\"banana\",\"kiwi\",\"orange\",\"cherry\")\n",
    "(green,*yellow,red)=mytuple\n",
    "print(green)\n",
    "print(yellow)\n",
    "print(red)"
   ]
  },
  {
   "cell_type": "code",
   "execution_count": 8,
   "id": "53ef09cf",
   "metadata": {},
   "outputs": [
    {
     "name": "stdout",
     "output_type": "stream",
     "text": [
      "{'apple', 'mango', 'orange'}\n"
     ]
    }
   ],
   "source": [
    "myset={\"apple\",\"mango\",\"orange\",\"mango\",\"mango\"}\n",
    "print(myset)"
   ]
  },
  {
   "cell_type": "code",
   "execution_count": 9,
   "id": "6f46c70f",
   "metadata": {},
   "outputs": [
    {
     "name": "stdout",
     "output_type": "stream",
     "text": [
      "{'apple', 'orange', 'banana', 'cherry'}\n"
     ]
    }
   ],
   "source": [
    "thisset={\"apple\",\"banana\",\"cherry\"}\n",
    "thisset.add(\"orange\")\n",
    "print(thisset)"
   ]
  },
  {
   "cell_type": "code",
   "execution_count": 10,
   "id": "58c8da2a",
   "metadata": {},
   "outputs": [
    {
     "name": "stdout",
     "output_type": "stream",
     "text": [
      "{'papaya', 'apple', 'pineapple', 'banana', 'mango', 'cherry'}\n"
     ]
    }
   ],
   "source": [
    "thisset={\"apple\",\"banana\",\"cherry\"}\n",
    "tropical={\"pineapple\",\"mango\",\"papaya\"}\n",
    "thisset.update(tropical)\n",
    "print(thisset)"
   ]
  },
  {
   "cell_type": "code",
   "execution_count": 11,
   "id": "18e42b4e",
   "metadata": {},
   "outputs": [
    {
     "name": "stdout",
     "output_type": "stream",
     "text": [
      "('pineapple', 'mango', 'papaya')\n"
     ]
    }
   ],
   "source": [
    "thisset={\"apple\",\"banana\",\"cherry\"}\n",
    "mylist=(\"pineapple\",\"mango\",\"papaya\")\n",
    "thisset.update(mylist)\n",
    "print(mylist)"
   ]
  },
  {
   "cell_type": "code",
   "execution_count": 12,
   "id": "2e5deaa6",
   "metadata": {},
   "outputs": [
    {
     "name": "stdout",
     "output_type": "stream",
     "text": [
      "{'google', 'microsoft', 'banana', 'cherry'}\n"
     ]
    }
   ],
   "source": [
    "x={\"apple\",\"banana\",\"cherry\"}\n",
    "y={\"google\",\"microsoft\",\"apple\"}\n",
    "x.symmetric_difference_update(y)\n",
    "print(x)"
   ]
  },
  {
   "cell_type": "code",
   "execution_count": 13,
   "id": "2aa325d9",
   "metadata": {},
   "outputs": [
    {
     "name": "stdout",
     "output_type": "stream",
     "text": [
      "{1, 2, 3, 'a', 'c', 'b'}\n"
     ]
    }
   ],
   "source": [
    "set1={\"a\",\"b\",\"c\"}\n",
    "set2={1,2,3}\n",
    "set1.update(set2)\n",
    "print(set1)"
   ]
  },
  {
   "cell_type": "markdown",
   "id": "69c76c3f",
   "metadata": {},
   "source": [
    "# Dictionaries"
   ]
  },
  {
   "cell_type": "markdown",
   "id": "40642d69",
   "metadata": {},
   "source": [
    "Dictionary is another type of collection which uses two values, like key and val. It is used ti store data values in key value pairs. Dictionary is a collection which is unordered, changeable and doesn't allow duplicate values. They are writeen with curly brackets and have key and value."
   ]
  },
  {
   "cell_type": "code",
   "execution_count": 14,
   "id": "b2c1b4d4",
   "metadata": {},
   "outputs": [
    {
     "name": "stdout",
     "output_type": "stream",
     "text": [
      "{'brand': 'Maruti', 'model': 'Swift', 'year': 2020}\n"
     ]
    }
   ],
   "source": [
    "mydict={\n",
    "    \"brand\":\"Maruti\",\n",
    "    \"model\":\"Swift\",\n",
    "    \"year\":2020\n",
    "}\n",
    "print(mydict)"
   ]
  },
  {
   "cell_type": "code",
   "execution_count": 15,
   "id": "836024e5",
   "metadata": {},
   "outputs": [
    {
     "name": "stdout",
     "output_type": "stream",
     "text": [
      "Maruti\n"
     ]
    }
   ],
   "source": [
    "mydict={\n",
    "    \"brand\":\"Maruti\",\n",
    "    \"model\":\"Swift\",\n",
    "    \"year\":2020\n",
    "}\n",
    "print(mydict[\"brand\"])"
   ]
  },
  {
   "cell_type": "code",
   "execution_count": 16,
   "id": "0fdd73e9",
   "metadata": {},
   "outputs": [
    {
     "name": "stdout",
     "output_type": "stream",
     "text": [
      "{'brand': 'Maruti', 'model': 'Swift', 'year': 2021}\n"
     ]
    }
   ],
   "source": [
    "mydict={\n",
    "    \"brand\":\"Maruti\",\n",
    "    \"model\":\"Swift\",\n",
    "    \"year\":2020,\n",
    "    \"year\":2021\n",
    "}\n",
    "print(mydict)"
   ]
  },
  {
   "cell_type": "code",
   "execution_count": 17,
   "id": "a4358cc6",
   "metadata": {},
   "outputs": [
    {
     "name": "stdout",
     "output_type": "stream",
     "text": [
      "3\n"
     ]
    }
   ],
   "source": [
    "print(len(mydict))"
   ]
  },
  {
   "cell_type": "code",
   "execution_count": 18,
   "id": "953ced73",
   "metadata": {},
   "outputs": [
    {
     "name": "stdout",
     "output_type": "stream",
     "text": [
      "{'brand': 'Maruti', 'model': 'Swift', 'year': 2020, 'electric': False, 'color': ['red', 'white', 'blue']}\n"
     ]
    }
   ],
   "source": [
    "mydict={\n",
    "    \"brand\":\"Maruti\",\n",
    "    \"model\":\"Swift\",\n",
    "    \"year\":2020,\n",
    "    \"electric\":False,\n",
    "    \"color\":[\"red\",\"white\",\"blue\"]\n",
    "}\n",
    "print(mydict)"
   ]
  },
  {
   "cell_type": "code",
   "execution_count": 19,
   "id": "1cf7cf93",
   "metadata": {},
   "outputs": [
    {
     "name": "stdout",
     "output_type": "stream",
     "text": [
      "<class 'dict'>\n"
     ]
    }
   ],
   "source": [
    "print(type(mydict))"
   ]
  },
  {
   "cell_type": "code",
   "execution_count": 20,
   "id": "123f086e",
   "metadata": {},
   "outputs": [
    {
     "name": "stdout",
     "output_type": "stream",
     "text": [
      "Swift\n"
     ]
    }
   ],
   "source": [
    "x=mydict[\"model\"]\n",
    "print(x)"
   ]
  },
  {
   "cell_type": "code",
   "execution_count": 21,
   "id": "a51a45fe",
   "metadata": {},
   "outputs": [
    {
     "name": "stdout",
     "output_type": "stream",
     "text": [
      "Swift\n"
     ]
    }
   ],
   "source": [
    "x=mydict.get(\"model\")\n",
    "print(x)"
   ]
  },
  {
   "cell_type": "code",
   "execution_count": 22,
   "id": "288bc92c",
   "metadata": {},
   "outputs": [
    {
     "name": "stdout",
     "output_type": "stream",
     "text": [
      "dict_keys(['brand', 'model', 'year', 'electric', 'color'])\n"
     ]
    }
   ],
   "source": [
    "x=mydict.keys()\n",
    "print(x)"
   ]
  },
  {
   "cell_type": "code",
   "execution_count": 23,
   "id": "14f68236",
   "metadata": {},
   "outputs": [
    {
     "name": "stdout",
     "output_type": "stream",
     "text": [
      "dict_values(['Maruti', 'Swift', 2020, False, ['red', 'white', 'blue']])\n"
     ]
    }
   ],
   "source": [
    "x=mydict.values()\n",
    "print(x)"
   ]
  },
  {
   "cell_type": "code",
   "execution_count": 24,
   "id": "c2d5760e",
   "metadata": {},
   "outputs": [
    {
     "name": "stdout",
     "output_type": "stream",
     "text": [
      "please include\n"
     ]
    }
   ],
   "source": [
    "mydict={\n",
    "    \"brand\":\"Maruti\",\n",
    "    \"model\":\"Swift\",\n",
    "    \"year\":2020\n",
    "}\n",
    "if \"name\" in mydict:\n",
    "    print(\"yes:this is one of the key\")\n",
    "else:\n",
    "    print(\"please include\")"
   ]
  },
  {
   "cell_type": "code",
   "execution_count": 25,
   "id": "6bdfe05e",
   "metadata": {},
   "outputs": [
    {
     "name": "stdout",
     "output_type": "stream",
     "text": [
      "yes:this is one of the key\n"
     ]
    }
   ],
   "source": [
    "mydict={\n",
    "    \"brand\":\"Maruti\",\n",
    "    \"model\":\"Swift\",\n",
    "    \"year\":2020\n",
    "}\n",
    "if \"model\" in mydict:\n",
    "    print(\"yes:this is one of the key\")"
   ]
  },
  {
   "cell_type": "code",
   "execution_count": 26,
   "id": "e7216d11",
   "metadata": {},
   "outputs": [
    {
     "name": "stdout",
     "output_type": "stream",
     "text": [
      "dict_keys(['brand', 'model', 'year'])\n",
      "dict_keys(['brand', 'model', 'year', 'color'])\n"
     ]
    }
   ],
   "source": [
    "mydict={\n",
    "    \"brand\":\"Maruti\",\n",
    "    \"model\":\"Swift\",\n",
    "    \"year\":2020\n",
    "}\n",
    "x=mydict.keys()\n",
    "print(x)\n",
    "mydict[\"color\"]=\"white\"\n",
    "print(x)"
   ]
  },
  {
   "cell_type": "code",
   "execution_count": 27,
   "id": "6e2ed761",
   "metadata": {},
   "outputs": [
    {
     "name": "stdout",
     "output_type": "stream",
     "text": [
      "{'brand': 'Maruti', 'model': 'Swift', 'year': 2018, 'color': 'white'}\n"
     ]
    }
   ],
   "source": [
    "mydict[\"year\"]=2018\n",
    "print(mydict)"
   ]
  },
  {
   "cell_type": "code",
   "execution_count": 28,
   "id": "ec4860aa",
   "metadata": {},
   "outputs": [
    {
     "name": "stdout",
     "output_type": "stream",
     "text": [
      "{'brand': 'Maruti', 'model': 'Swift', 'year': 2015, 'color': 'white'}\n"
     ]
    }
   ],
   "source": [
    "mydict.update({\"year\":2015})\n",
    "print(mydict)"
   ]
  },
  {
   "cell_type": "code",
   "execution_count": 29,
   "id": "5c704a9b",
   "metadata": {},
   "outputs": [
    {
     "name": "stdout",
     "output_type": "stream",
     "text": [
      "{'brand': 'Maruti', 'model': 'Swift'}\n"
     ]
    }
   ],
   "source": [
    "mydict={\n",
    "    \"brand\":\"Maruti\",\n",
    "    \"model\":\"Swift\",\n",
    "    \"year\":2020\n",
    "}\n",
    "mydict.popitem()\n",
    "print(mydict)"
   ]
  },
  {
   "cell_type": "code",
   "execution_count": 30,
   "id": "cfcb0d3d",
   "metadata": {},
   "outputs": [
    {
     "name": "stdout",
     "output_type": "stream",
     "text": [
      "{'brand': 'Maruti', 'year': 2020}\n"
     ]
    }
   ],
   "source": [
    "mydict={\n",
    "    \"brand\":\"Maruti\",\n",
    "    \"model\":\"Swift\",\n",
    "    \"year\":2020\n",
    "}\n",
    "del mydict[\"model\"]\n",
    "print(mydict)"
   ]
  },
  {
   "cell_type": "code",
   "execution_count": 31,
   "id": "ee17db09",
   "metadata": {},
   "outputs": [],
   "source": [
    "mydict={\n",
    "    \"brand\":\"Maruti\",\n",
    "    \"model\":\"Swift\",\n",
    "    \"year\":2020\n",
    "}\n",
    "del mydict"
   ]
  },
  {
   "cell_type": "code",
   "execution_count": 32,
   "id": "f0b4e119",
   "metadata": {},
   "outputs": [
    {
     "name": "stdout",
     "output_type": "stream",
     "text": [
      "{}\n"
     ]
    }
   ],
   "source": [
    "mydict={\n",
    "    \"brand\":\"Maruti\",\n",
    "    \"model\":\"Swift\",\n",
    "    \"year\":2020\n",
    "}\n",
    "mydict.clear()\n",
    "print(mydict)"
   ]
  },
  {
   "cell_type": "code",
   "execution_count": 33,
   "id": "cdf56653",
   "metadata": {},
   "outputs": [
    {
     "name": "stdout",
     "output_type": "stream",
     "text": [
      "brand\n",
      "model\n",
      "year\n"
     ]
    }
   ],
   "source": [
    "mydict={\n",
    "    \"brand\":\"Maruti\",\n",
    "    \"model\":\"Swift\",\n",
    "    \"year\":2020\n",
    "}\n",
    "for x in mydict:\n",
    "    print(x)"
   ]
  },
  {
   "cell_type": "code",
   "execution_count": 34,
   "id": "686471b4",
   "metadata": {},
   "outputs": [
    {
     "name": "stdout",
     "output_type": "stream",
     "text": [
      "Maruti\n",
      "Swift\n",
      "2020\n"
     ]
    }
   ],
   "source": [
    "for x in mydict:\n",
    "    print(mydict[x])"
   ]
  },
  {
   "cell_type": "code",
   "execution_count": 35,
   "id": "8e39fb6e",
   "metadata": {},
   "outputs": [
    {
     "name": "stdout",
     "output_type": "stream",
     "text": [
      "brand\n",
      "model\n",
      "year\n"
     ]
    }
   ],
   "source": [
    "for x in mydict.keys():\n",
    "    print(x)"
   ]
  },
  {
   "cell_type": "code",
   "execution_count": 36,
   "id": "051c692b",
   "metadata": {},
   "outputs": [
    {
     "name": "stdout",
     "output_type": "stream",
     "text": [
      "brand Maruti\n",
      "model Swift\n",
      "year 2020\n"
     ]
    }
   ],
   "source": [
    "for x,y in mydict.items():\n",
    "    print(x,y)"
   ]
  },
  {
   "cell_type": "code",
   "execution_count": 37,
   "id": "fdb64f4f",
   "metadata": {},
   "outputs": [
    {
     "name": "stdout",
     "output_type": "stream",
     "text": [
      "{'brand': 'Maruti', 'model': 'Swift', 'year': 2020}\n"
     ]
    }
   ],
   "source": [
    "mydict2=mydict.copy()\n",
    "print(mydict2)"
   ]
  },
  {
   "cell_type": "code",
   "execution_count": 38,
   "id": "02aacd79",
   "metadata": {},
   "outputs": [
    {
     "name": "stdout",
     "output_type": "stream",
     "text": [
      "{'brand': 'Maruti', 'model': 'Swift', 'year': 2020}\n"
     ]
    }
   ],
   "source": [
    "mydict2=dict(mydict)\n",
    "print(mydict)"
   ]
  },
  {
   "cell_type": "code",
   "execution_count": 40,
   "id": "c14a9658",
   "metadata": {},
   "outputs": [
    {
     "name": "stdout",
     "output_type": "stream",
     "text": [
      "{'child1': {'name': 'Ananya', 'year': 2004}, 'child2': {'name': 'Tanvi', 'year': 2008}, 'child3': {'name': 'Kappala', 'year': 2001}}\n"
     ]
    }
   ],
   "source": [
    "myfamily={\n",
    "    \"child1\":{\n",
    "        \"name\":\"Ananya\",\n",
    "        \"year\":2004\n",
    "    },\n",
    "    \"child2\":{\n",
    "        \"name\":\"Tanvi\",\n",
    "        \"year\":2008\n",
    "    },\n",
    "    \"child3\":{\n",
    "        \"name\":\"Kappala\",\n",
    "        \"year\":2001\n",
    "    }\n",
    "}\n",
    "print(myfamily)"
   ]
  },
  {
   "cell_type": "code",
   "execution_count": 42,
   "id": "cbfa7f98",
   "metadata": {},
   "outputs": [
    {
     "name": "stdout",
     "output_type": "stream",
     "text": [
      "Sum of all values in the dictionary: 67\n"
     ]
    }
   ],
   "source": [
    "#Python program to find the sum of all items in a dictionary\n",
    "mydict={\n",
    "    'a':26,\n",
    "    'b':23,\n",
    "    'c':9,\n",
    "    'd':6,\n",
    "    'e':3\n",
    "}\n",
    "result=sum(mydict.values())\n",
    "print(\"Sum of all values in the dictionary:\", result)"
   ]
  },
  {
   "cell_type": "code",
   "execution_count": 43,
   "id": "00ab4dc9",
   "metadata": {},
   "outputs": [
    {
     "name": "stdout",
     "output_type": "stream",
     "text": [
      "5\n"
     ]
    }
   ],
   "source": [
    "#Python program to find the size of a Dictionary\n",
    "mydict={\n",
    "    \"fname1\":\"tanvi\",\n",
    "    \"fname2\":\"ananya\",\n",
    "    \"lname\":\"kappala\",\n",
    "    \"roll\":21051523,\n",
    "    \"section\":\"CSE36\"\n",
    "}\n",
    "print(len(mydict))"
   ]
  },
  {
   "cell_type": "code",
   "execution_count": 45,
   "id": "9634b627",
   "metadata": {},
   "outputs": [
    {
     "name": "stdout",
     "output_type": "stream",
     "text": [
      "['a', 'b', 'c', 'd', 'e']\n",
      "[3, 6, 9, 23, 26]\n"
     ]
    }
   ],
   "source": [
    "#Python program to Sort Dictionaries by Key or Value\n",
    "mydict={\n",
    "    'a':26,\n",
    "    'b':23,\n",
    "    'c':9,\n",
    "    'd':6,\n",
    "    'e':3\n",
    "}\n",
    "a=sorted(mydict.keys())\n",
    "print(a)\n",
    "b=sorted(mydict.values())\n",
    "print(b)"
   ]
  },
  {
   "cell_type": "code",
   "execution_count": 50,
   "id": "028241ca",
   "metadata": {},
   "outputs": [
    {
     "name": "stdout",
     "output_type": "stream",
     "text": [
      "[{'name': 'sanu', 'roll': 21051509}, {'name': 'Ananya', 'roll': 21051523}, {'name': 'utkrist', 'roll': 21051526}]\n"
     ]
    }
   ],
   "source": [
    "#Sort list of dictionaries by values in Python – Using lambda function\n",
    "mydict=[\n",
    "    {\"name\":\"Ananya\",\"roll\":21051523},\n",
    "    {\"name\":\"utkrist\",\"roll\":21051526},\n",
    "    {\"name\":\"sanu\",\"roll\":21051509}\n",
    "]\n",
    "sorted_by_val=sorted(mydict,key=lambda x: x[\"roll\"])\n",
    "print(sorted_by_val)"
   ]
  },
  {
   "cell_type": "code",
   "execution_count": 55,
   "id": "2686605e",
   "metadata": {},
   "outputs": [
    {
     "name": "stdout",
     "output_type": "stream",
     "text": [
      "{'a': 26, 'b': 23, 'c': 6, 'd': 3, 'e': 4}\n"
     ]
    }
   ],
   "source": [
    "#Program to Merge two Dictionaries\n",
    "mydict1={\n",
    "    \"a\":26,\n",
    "    \"b\":23\n",
    "}\n",
    "mydict2={\n",
    "    \"c\":6,\n",
    "    \"d\":3,\n",
    "    \"e\":4\n",
    "}\n",
    "mydict3=mydict1.copy()\n",
    "mydict3.update(mydict2)\n",
    "print(mydict3)"
   ]
  },
  {
   "cell_type": "code",
   "execution_count": 61,
   "id": "77e9a2d4",
   "metadata": {},
   "outputs": [
    {
     "name": "stdout",
     "output_type": "stream",
     "text": [
      "['a', 'p', ' ', 'n']\n"
     ]
    }
   ],
   "source": [
    "#Program to Find all duplicate characters in string\n",
    "string=\"kappala tanvi ananya\"\n",
    "duplicates=[]\n",
    "for i in range(len(string)):\n",
    "    if string[i] not in duplicates and string.count(string[i])>1:\n",
    "        duplicates.append(string[i])\n",
    "print(duplicates)"
   ]
  },
  {
   "cell_type": "code",
   "execution_count": 63,
   "id": "0d307a3b",
   "metadata": {},
   "outputs": [
    {
     "name": "stdout",
     "output_type": "stream",
     "text": [
      "tanvi kappala ananya\n"
     ]
    }
   ],
   "source": [
    "#Program to Replace String by Kth Dictionary value\n",
    "mydict={\n",
    "    \"fname1\":\"tanvi\",\n",
    "    \"fname2\":\"ananya\",\n",
    "    \"lname\":\"kappala\",\n",
    "    \"roll\":21051523,\n",
    "    \"section\":\"CSE36\"\n",
    "}\n",
    "instring=\"fname1 lname fname2\"\n",
    "words=instring.split()\n",
    "for i in range(len(words)):\n",
    "    if words[i] in mydict:\n",
    "        words[i]=mydict[words[i]]\n",
    "outstring=\" \".join(words)\n",
    "print(outstring)"
   ]
  },
  {
   "cell_type": "code",
   "execution_count": 65,
   "id": "6f066287",
   "metadata": {},
   "outputs": [
    {
     "name": "stdout",
     "output_type": "stream",
     "text": [
      "I tanvi ananya am kappala\n"
     ]
    }
   ],
   "source": [
    "#Python | Remove all duplicates words from a given sentence\n",
    "sentence=\"I am kappala tanvi ananya tanvi ananya\"\n",
    "unique_words=set(sentence.split())\n",
    "unique_sentence=\" \".join(unique_words)\n",
    "print(unique_sentence)"
   ]
  },
  {
   "cell_type": "code",
   "execution_count": 67,
   "id": "bfaf760d",
   "metadata": {},
   "outputs": [
    {
     "name": "stdout",
     "output_type": "stream",
     "text": [
      "{2: 2, 1: 2, 0: 1, 5: 2, 3: 2, 6: 1, 4: 1}\n"
     ]
    }
   ],
   "source": [
    "#Program to Count the frequencies in a list using dictionary in Python\n",
    "mylist=[2,1,0,5,1,5,2,3,6,3,4]\n",
    "frequencydict={}\n",
    "for item in mylist:\n",
    "    frequencydict[item]=frequencydict.get(item,0)+1\n",
    "print(frequencydict)"
   ]
  },
  {
   "cell_type": "code",
   "execution_count": 71,
   "id": "8604f7a5",
   "metadata": {},
   "outputs": [
    {
     "name": "stdout",
     "output_type": "stream",
     "text": [
      "C\n"
     ]
    }
   ],
   "source": [
    "#Program to create grade calculator in Python using dictionary\n",
    "graderanges={\n",
    "    (90,100):\"A\",\n",
    "    (80,89):\"B\",\n",
    "    (70,79):\"C\",\n",
    "    (60,69):\"D\",\n",
    "    (0,59):\"F\"\n",
    "}\n",
    "mygrades=[95,89,56,50,90]\n",
    "avggrade=sum(mygrades)/len(mygrades)\n",
    "for range_, lettergrade in graderanges.items():\n",
    "    if range_[0] <= avggrade <= range_[1]:\n",
    "        finalgrade=lettergrade\n",
    "        break\n",
    "    else:\n",
    "        finalgrade=\"Invalid\"\n",
    "print(finalgrade)"
   ]
  },
  {
   "cell_type": "code",
   "execution_count": null,
   "id": "0f5312e4",
   "metadata": {},
   "outputs": [],
   "source": []
  }
 ],
 "metadata": {
  "kernelspec": {
   "display_name": "Python 3 (ipykernel)",
   "language": "python",
   "name": "python3"
  },
  "language_info": {
   "codemirror_mode": {
    "name": "ipython",
    "version": 3
   },
   "file_extension": ".py",
   "mimetype": "text/x-python",
   "name": "python",
   "nbconvert_exporter": "python",
   "pygments_lexer": "ipython3",
   "version": "3.11.5"
  }
 },
 "nbformat": 4,
 "nbformat_minor": 5
}
