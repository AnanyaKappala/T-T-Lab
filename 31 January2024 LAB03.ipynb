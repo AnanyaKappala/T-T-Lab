{
 "cells": [
  {
   "cell_type": "code",
   "execution_count": 2,
   "id": "4f8ed47d",
   "metadata": {},
   "outputs": [
    {
     "name": "stdout",
     "output_type": "stream",
     "text": [
      "<class 'list'>\n"
     ]
    }
   ],
   "source": [
    "newlists=[\"apple\",\"orange\",\"banana\"]\n",
    "print(type(newlists))"
   ]
  },
  {
   "cell_type": "code",
   "execution_count": 3,
   "id": "b002ff72",
   "metadata": {},
   "outputs": [
    {
     "name": "stdout",
     "output_type": "stream",
     "text": [
      "5\n"
     ]
    }
   ],
   "source": [
    "list1=[\"man\",45,True,56,\"male\"]\n",
    "print(len(list1))"
   ]
  },
  {
   "cell_type": "code",
   "execution_count": 4,
   "id": "0789980a",
   "metadata": {},
   "outputs": [
    {
     "name": "stdout",
     "output_type": "stream",
     "text": [
      "['apple', 'orange', 'banana']\n"
     ]
    }
   ],
   "source": [
    "fruit=list((\"apple\",\"orange\",\"banana\"))\n",
    "print(fruit)"
   ]
  },
  {
   "cell_type": "code",
   "execution_count": 9,
   "id": "1ada33cf",
   "metadata": {},
   "outputs": [
    {
     "name": "stdout",
     "output_type": "stream",
     "text": [
      "orange\n"
     ]
    }
   ],
   "source": [
    "list1=[\"apple\",\"orange\",\"banana\"]\n",
    "print(list1[-2])"
   ]
  },
  {
   "cell_type": "code",
   "execution_count": 7,
   "id": "0984ddec",
   "metadata": {},
   "outputs": [
    {
     "name": "stdout",
     "output_type": "stream",
     "text": [
      "yes\n"
     ]
    }
   ],
   "source": [
    "list2=[\"apple\",\"orange\",\"banana\",\"mango\",\"cherry\",\"kiwi\",\"melom\"]\n",
    "if \"mango\" in list2:\n",
    "    print(\"yes\")"
   ]
  },
  {
   "cell_type": "code",
   "execution_count": 10,
   "id": "aac638f0",
   "metadata": {},
   "outputs": [
    {
     "name": "stdout",
     "output_type": "stream",
     "text": [
      "['apple', 'kiwi', 'banana']\n"
     ]
    }
   ],
   "source": [
    "list1=[\"apple\",\"orange\",\"banana\"]\n",
    "list1[1]=\"kiwi\"\n",
    "print(list1)"
   ]
  },
  {
   "cell_type": "code",
   "execution_count": 14,
   "id": "842e72c2",
   "metadata": {},
   "outputs": [
    {
     "name": "stdout",
     "output_type": "stream",
     "text": [
      "['banana', 'mango', 'cherry']\n"
     ]
    }
   ],
   "source": [
    "list2=[\"apple\",\"orange\",\"banana\",\"mango\",\"cherry\",\"kiwi\",\"melon\"]\n",
    "#list2[1:3]=[\"brinjal\",\"tomato\"]\n",
    "print(list2[2:5])"
   ]
  },
  {
   "cell_type": "code",
   "execution_count": 15,
   "id": "ff7609e9",
   "metadata": {},
   "outputs": [
    {
     "name": "stdout",
     "output_type": "stream",
     "text": [
      "['apple', 'aaa', 'bbb', 'banana']\n"
     ]
    }
   ],
   "source": [
    "list1=[\"apple\",\"orange\",\"banana\"]\n",
    "list1[1:2]=[\"aaa\",\"bbb\"]\n",
    "print(list1)"
   ]
  },
  {
   "cell_type": "code",
   "execution_count": 16,
   "id": "3f429e11",
   "metadata": {},
   "outputs": [
    {
     "name": "stdout",
     "output_type": "stream",
     "text": [
      "['apple', 'orange', 'berry', 'banana']\n"
     ]
    }
   ],
   "source": [
    "list1=[\"apple\",\"orange\",\"banana\"]\n",
    "list1.insert(2,\"berry\")\n",
    "print(list1)"
   ]
  },
  {
   "cell_type": "code",
   "execution_count": 17,
   "id": "1fbcf243",
   "metadata": {},
   "outputs": [
    {
     "name": "stdout",
     "output_type": "stream",
     "text": [
      "['apple', 'orange', 'berry']\n"
     ]
    }
   ],
   "source": [
    "list1=[\"apple\",\"orange\",\"banana\"]\n",
    "list1[2]=\"berry\"\n",
    "print(list1)"
   ]
  },
  {
   "cell_type": "code",
   "execution_count": 18,
   "id": "6c5c454f",
   "metadata": {},
   "outputs": [
    {
     "name": "stdout",
     "output_type": "stream",
     "text": [
      "['apple', 'orange', 'banana', 'cherry']\n"
     ]
    }
   ],
   "source": [
    "list1=[\"apple\",\"orange\",\"banana\"]\n",
    "list1.append(\"cherry\")\n",
    "print(list1)"
   ]
  },
  {
   "cell_type": "code",
   "execution_count": 19,
   "id": "43f067e1",
   "metadata": {},
   "outputs": [
    {
     "name": "stdout",
     "output_type": "stream",
     "text": [
      "['apple', 'orange', 'banana', 'mango', 'cherry']\n"
     ]
    }
   ],
   "source": [
    "list1=[\"apple\",\"orange\",\"banana\"]\n",
    "#list2=[\"aaa\",\"bbb\",\"ccc\"]\n",
    "tuple1=(\"mango\",\"cherry\")\n",
    "list1.extend(tuple1)\n",
    "#list1.extend(list2)\n",
    "print(list1)"
   ]
  },
  {
   "cell_type": "code",
   "execution_count": 20,
   "id": "41cf4d91",
   "metadata": {},
   "outputs": [
    {
     "name": "stdout",
     "output_type": "stream",
     "text": [
      "['apple', 'orange', 'banana']\n"
     ]
    }
   ],
   "source": [
    "list1=[\"apple\",\"orange\",\"orange\",\"banana\"]\n",
    "list1.remove(\"orange\")\n",
    "print(list1)"
   ]
  },
  {
   "cell_type": "code",
   "execution_count": 21,
   "id": "f2c2a5f1",
   "metadata": {},
   "outputs": [
    {
     "name": "stdout",
     "output_type": "stream",
     "text": [
      "['apple', 'banana']\n"
     ]
    }
   ],
   "source": [
    "list1=[\"apple\",\"orange\",\"banana\"]\n",
    "list1.pop(1)\n",
    "print(list1)"
   ]
  },
  {
   "cell_type": "code",
   "execution_count": 22,
   "id": "acd642b2",
   "metadata": {},
   "outputs": [
    {
     "name": "stdout",
     "output_type": "stream",
     "text": [
      "[]\n"
     ]
    }
   ],
   "source": [
    "list1=[\"apple\",\"orange\",\"banana\"]\n",
    "list1.clear()\n",
    "print(list1)"
   ]
  },
  {
   "cell_type": "code",
   "execution_count": 23,
   "id": "0add74d9",
   "metadata": {},
   "outputs": [
    {
     "name": "stdout",
     "output_type": "stream",
     "text": [
      "apple\n",
      "orange\n",
      "banana\n"
     ]
    }
   ],
   "source": [
    "list1=[\"apple\",\"orange\",\"banana\"]\n",
    "for x in list1:\n",
    "    print(x)"
   ]
  },
  {
   "cell_type": "code",
   "execution_count": 25,
   "id": "c9e8e356",
   "metadata": {},
   "outputs": [
    {
     "name": "stdout",
     "output_type": "stream",
     "text": [
      "apple\n",
      "orange\n",
      "banana\n"
     ]
    }
   ],
   "source": [
    "list1=[\"apple\",\"orange\",\"banana\"]\n",
    "for i in range (len(list1)):\n",
    "    print(list1[i])"
   ]
  },
  {
   "cell_type": "code",
   "execution_count": 26,
   "id": "64f0a558",
   "metadata": {},
   "outputs": [
    {
     "name": "stdout",
     "output_type": "stream",
     "text": [
      "['apple', 'orange', 'banana']\n",
      "['apple', 'orange', 'banana']\n",
      "['apple', 'orange', 'banana']\n"
     ]
    }
   ],
   "source": [
    "list1=[\"apple\",\"orange\",\"banana\"]\n",
    "i=0\n",
    "while i<len(list1):\n",
    "    print(list1)\n",
    "    i=i+1"
   ]
  },
  {
   "cell_type": "code",
   "execution_count": 27,
   "id": "082adfc2",
   "metadata": {},
   "outputs": [
    {
     "name": "stdout",
     "output_type": "stream",
     "text": [
      "apple\n",
      "orange\n",
      "banana\n"
     ]
    },
    {
     "data": {
      "text/plain": [
       "[None, None, None]"
      ]
     },
     "execution_count": 27,
     "metadata": {},
     "output_type": "execute_result"
    }
   ],
   "source": [
    "list1=[\"apple\",\"orange\",\"banana\"]\n",
    "[print(x) for x in list1]"
   ]
  },
  {
   "cell_type": "code",
   "execution_count": 28,
   "id": "8ff3e2a0",
   "metadata": {},
   "outputs": [
    {
     "name": "stdout",
     "output_type": "stream",
     "text": [
      "['banana', 'orange', 'apple']\n"
     ]
    }
   ],
   "source": [
    "list1=[\"apple\",\"orange\",\"banana\"]\n",
    "list1.reverse()\n",
    "print(list1)"
   ]
  },
  {
   "cell_type": "code",
   "execution_count": 32,
   "id": "ce185aa8",
   "metadata": {},
   "outputs": [
    {
     "name": "stdout",
     "output_type": "stream",
     "text": [
      "['apple', 'orange', 'banana']\n",
      "['apple', 'orange', 'banana']\n"
     ]
    }
   ],
   "source": [
    "list1=[\"apple\",\"orange\",\"banana\"]\n",
    "list2=list1\n",
    "print(list2)\n",
    "print(list1)"
   ]
  },
  {
   "cell_type": "code",
   "execution_count": 30,
   "id": "d44e89ea",
   "metadata": {},
   "outputs": [
    {
     "name": "stdout",
     "output_type": "stream",
     "text": [
      "['apple', 'orange', 'banana', 'mango', 'kiwi']\n"
     ]
    }
   ],
   "source": [
    "list1=[\"apple\",\"orange\",\"banana\"]\n",
    "list2=[\"mango\",\"kiwi\"]\n",
    "list3=list1+list2\n",
    "print(list3)"
   ]
  },
  {
   "cell_type": "code",
   "execution_count": 31,
   "id": "6c95a047",
   "metadata": {},
   "outputs": [
    {
     "name": "stdout",
     "output_type": "stream",
     "text": [
      "3\n"
     ]
    }
   ],
   "source": [
    "thislist=[\"apple\",\"orange\",\"banana\"]\n",
    "print(len(thislist))"
   ]
  },
  {
   "cell_type": "code",
   "execution_count": 33,
   "id": "ddfa576c",
   "metadata": {},
   "outputs": [
    {
     "name": "stdout",
     "output_type": "stream",
     "text": [
      "orange\n"
     ]
    }
   ],
   "source": [
    "thislist=[\"apple\",\"orange\",\"banana\"]\n",
    "print(thislist[-2])"
   ]
  },
  {
   "cell_type": "code",
   "execution_count": 34,
   "id": "4f58e2f7",
   "metadata": {},
   "outputs": [
    {
     "name": "stdout",
     "output_type": "stream",
     "text": [
      "['apple', 'banana', 'cherry', 'kiwi', 'mango', 'melon', 'orange']\n"
     ]
    }
   ],
   "source": [
    "list2=[\"apple\",\"orange\",\"banana\",\"mango\",\"cherry\",\"kiwi\",\"melon\"]\n",
    "list2.sort()\n",
    "print(list2)"
   ]
  },
  {
   "cell_type": "code",
   "execution_count": 36,
   "id": "8726d0e3",
   "metadata": {},
   "outputs": [
    {
     "name": "stdout",
     "output_type": "stream",
     "text": [
      "[1, 2, 3, 4, 5, 6, 7, 8, 9, 10]\n"
     ]
    }
   ],
   "source": [
    "#list comprehension\n",
    "list5=[x for x in range(1,11)]\n",
    "print(list5)"
   ]
  },
  {
   "cell_type": "code",
   "execution_count": 37,
   "id": "f9d3dbd8",
   "metadata": {},
   "outputs": [
    {
     "name": "stdout",
     "output_type": "stream",
     "text": [
      "['apple', 'orange', 'banana', 'cherry', 'kiwi', 'melon']\n"
     ]
    }
   ],
   "source": [
    "list2=[\"apple\",\"orange\",\"banana\",\"mango\",\"cherry\",\"kiwi\",\"melon\"]\n",
    "del list2[3]\n",
    "print(list2)"
   ]
  },
  {
   "cell_type": "code",
   "execution_count": 40,
   "id": "f9a04bf4",
   "metadata": {},
   "outputs": [
    {
     "name": "stdout",
     "output_type": "stream",
     "text": [
      "['kappala', 'tanvi', 'ananya', 21051523]\n",
      "['kappala', 'tanvi', 'ananya', 21051523, 'CSE36']\n",
      "['tanvi', 'ananya', 21051523, 'CSE36']\n"
     ]
    }
   ],
   "source": [
    "#WAP to create a list and display it, perform append and delete operation and display list.\n",
    "mylist=[\"kappala\",\"tanvi\",\"ananya\",21051523]\n",
    "print(mylist)\n",
    "mylist.append(\"CSE36\")\n",
    "print(mylist)\n",
    "mylist.remove(\"kappala\")\n",
    "print(mylist)"
   ]
  },
  {
   "cell_type": "code",
   "execution_count": 39,
   "id": "57ab7a5f",
   "metadata": {},
   "outputs": [
    {
     "name": "stdout",
     "output_type": "stream",
     "text": [
      "['kappala', 'tanvi', 'ananya', 21051523]\n",
      "['kappala', 'tanvi', 'TTLab', 'ananya', 21051523]\n",
      "['kappala', 'tanvi', 'TTLab', 'ananya']\n"
     ]
    }
   ],
   "source": [
    "#WAP to create a list and display it, perform adding an element at particular position and delete a element at a particular position and display updated list\n",
    "mylist=[\"kappala\",\"tanvi\",\"ananya\",21051523]\n",
    "print(mylist)\n",
    "mylist.insert(2,\"TTLab\")\n",
    "print(mylist)\n",
    "del mylist[4]\n",
    "print(mylist)"
   ]
  },
  {
   "cell_type": "code",
   "execution_count": 50,
   "id": "7ba91055",
   "metadata": {},
   "outputs": [
    {
     "name": "stdout",
     "output_type": "stream",
     "text": [
      "['kappala', 21051523, 'tanvi', 'ananya', 21051523, 'CSE36', 'QC05', 'TTLab', 21051523]\n",
      "['kappala', 'tanvi', 'ananya', 21051523, 'CSE36', 'QC05', 'TTLab', 21051523]\n",
      "['kappala', 'tanvi', 'ananya', 'CSE36', 'QC05', 'TTLab', 21051523]\n",
      "['kappala', 'tanvi', 'ananya', 'CSE36', 'QC05', 'TTLab']\n"
     ]
    }
   ],
   "source": [
    "#WAP to create a list and display it, delete all occurances of a particular number and display the updated list.\n",
    "mylist=[\"kappala\",21051523,\"tanvi\",\"ananya\",21051523,\"CSE36\",\"QC05\",\"TTLab\",21051523]\n",
    "print(mylist)\n",
    "i=0\n",
    "while i< len(mylist):\n",
    "    if mylist[i]==21051523:\n",
    "        mylist.remove(21051523)\n",
    "        print(mylist)\n",
    "    i=i+1"
   ]
  },
  {
   "cell_type": "code",
   "execution_count": 58,
   "id": "c6a69981",
   "metadata": {},
   "outputs": [
    {
     "name": "stdout",
     "output_type": "stream",
     "text": [
      "['kappala', 21051523, 'tanvi', 'ananya', 21051523, 'CSE36', 'QC05', 'TTLab', 21051523]\n",
      "['kappala']\n",
      "['kappala', 21051523]\n",
      "['kappala', 21051523, 'tanvi']\n",
      "['kappala', 21051523, 'tanvi', 'ananya']\n",
      "['kappala', 21051523, 'tanvi', 'ananya']\n",
      "['kappala', 21051523, 'tanvi', 'ananya', 'CSE36']\n",
      "['kappala', 21051523, 'tanvi', 'ananya', 'CSE36', 'QC05']\n",
      "['kappala', 21051523, 'tanvi', 'ananya', 'CSE36', 'QC05', 'TTLab']\n",
      "['kappala', 21051523, 'tanvi', 'ananya', 'CSE36', 'QC05', 'TTLab']\n"
     ]
    }
   ],
   "source": [
    "#WAP to create a list and display it, store unique number in another list and display new list.\n",
    "mylist=[\"kappala\",21051523,\"tanvi\",\"ananya\",21051523,\"CSE36\",\"QC05\",\"TTLab\",21051523]\n",
    "print(mylist)\n",
    "newlist=[]\n",
    "for str in mylist:\n",
    "    if str not in newlist:\n",
    "        newlist.append(str)\n",
    "    print(newlist)\n",
    "    "
   ]
  },
  {
   "cell_type": "code",
   "execution_count": 72,
   "id": "10b7ebbe",
   "metadata": {},
   "outputs": [
    {
     "name": "stdout",
     "output_type": "stream",
     "text": [
      "['kappala', 21051523, 'tanvi', 'ananya', 21051523, 'CSE36', 'QC05', 'TTLab', 21051523]\n",
      "[21051523, 21051523, 21051523]\n"
     ]
    }
   ],
   "source": [
    "#WAP to create a list and display it, delete falsy values and display updated list.(FILTER)\n",
    "mylist=[\"kappala\",21051523,\"tanvi\",\"ananya\",21051523,\"CSE36\",\"QC05\",\"TTLab\",21051523]\n",
    "print(mylist)\n",
    "filteredlist=list(filter(lambda x: x==21051523,mylist))\n",
    "print(filteredlist)"
   ]
  },
  {
   "cell_type": "code",
   "execution_count": 77,
   "id": "638b99e9",
   "metadata": {},
   "outputs": [
    {
     "name": "stdout",
     "output_type": "stream",
     "text": [
      "[19, 'tanvi', 'ananya', 21051523, 'CSE36', 'kappala']\n"
     ]
    }
   ],
   "source": [
    "#WAP to interchange first and last elements in a list.\n",
    "mylist=[\"kappala\",\"tanvi\",\"ananya\",21051523,\"CSE36\",19]\n",
    "i=len(mylist)-1\n",
    "j=0\n",
    "temp=mylist[j]\n",
    "mylist[j]=mylist[i]\n",
    "mylist[i]=temp\n",
    "print(mylist)"
   ]
  },
  {
   "cell_type": "code",
   "execution_count": 82,
   "id": "e793311d",
   "metadata": {},
   "outputs": [
    {
     "name": "stdout",
     "output_type": "stream",
     "text": [
      "Enter a index you want to swap: 2\n",
      "Enter another index you want to swap with: 3\n",
      "['kappala', 'tanvi', 21051523, 'ananya', 'CSE36', 19]\n"
     ]
    }
   ],
   "source": [
    "#WAP to swap two elements in a list\n",
    "mylist=[\"kappala\",\"tanvi\",\"ananya\",21051523,\"CSE36\",19]\n",
    "index=int(input(\"Enter a index you want to swap: \"))\n",
    "an_index=int(input(\"Enter another index you want to swap with: \"))\n",
    "i=index\n",
    "j=an_index\n",
    "temp=mylist[i]\n",
    "mylist[i]=mylist[j]\n",
    "mylist[j]=temp\n",
    "print(mylist)"
   ]
  },
  {
   "cell_type": "code",
   "execution_count": 85,
   "id": "7149aa19",
   "metadata": {},
   "outputs": [
    {
     "name": "stdout",
     "output_type": "stream",
     "text": [
      "Enter a index you want to swap: 3\n",
      "Enter another index you want to swap with: 1\n",
      "['kappala', 21051523, 'ananya', 'tanvi', 'CSE36', 19]\n"
     ]
    }
   ],
   "source": [
    "#Swap elements in string list\n",
    "mylist=[\"kappala\",\"tanvi\",\"ananya\",21051523,\"CSE36\",19]\n",
    "index=int(input(\"Enter a index you want to swap: \"))\n",
    "an_index=int(input(\"Enter another index you want to swap with: \"))\n",
    "i=index\n",
    "j=an_index\n",
    "temp=mylist[i]\n",
    "mylist[i]=mylist[j]\n",
    "mylist[j]=temp\n",
    "print(mylist)"
   ]
  },
  {
   "cell_type": "code",
   "execution_count": 84,
   "id": "3f24d596",
   "metadata": {},
   "outputs": [
    {
     "name": "stdout",
     "output_type": "stream",
     "text": [
      "Enter number 1: 23\n",
      "Enter number 2: 26\n",
      "Greater is  26\n"
     ]
    }
   ],
   "source": [
    "#Maximum of two numbers in python.\n",
    "num1=int(input(\"Enter number 1: \"))\n",
    "num2=int(input(\"Enter number 2: \"))\n",
    "if num1>num2:\n",
    "    print(\"Greater is \",num1)\n",
    "else:\n",
    "    print(\"Greater is \",num2)"
   ]
  },
  {
   "cell_type": "code",
   "execution_count": 87,
   "id": "cbe59458",
   "metadata": {},
   "outputs": [
    {
     "name": "stdout",
     "output_type": "stream",
     "text": [
      "Enter the element to check: 6\n",
      "Absent\n"
     ]
    }
   ],
   "source": [
    "#Python program to check if element exists in a list.\n",
    "mylist=[2,1,0,5,1,5,2,3]\n",
    "element=int(input(\"Enter the element to check: \"))\n",
    "if element in mylist:\n",
    "    print(\"Present\")\n",
    "else:\n",
    "    print(\"Absent\")"
   ]
  },
  {
   "cell_type": "code",
   "execution_count": 88,
   "id": "c4da61d9",
   "metadata": {},
   "outputs": [
    {
     "name": "stdout",
     "output_type": "stream",
     "text": [
      "[19, 'CSE36', 21051523, 'ananya', 'tanvi', 'kappala']\n"
     ]
    }
   ],
   "source": [
    "#Python program to reverse a list.\n",
    "mylist=[\"kappala\",\"tanvi\",\"ananya\",21051523,\"CSE36\",19]\n",
    "mylist.reverse()\n",
    "print(mylist)"
   ]
  },
  {
   "cell_type": "code",
   "execution_count": 91,
   "id": "30eb5f09",
   "metadata": {},
   "outputs": [
    {
     "name": "stdout",
     "output_type": "stream",
     "text": [
      "Enter the element: 3\n",
      "The element occurs 2 times.\n"
     ]
    }
   ],
   "source": [
    "#Python program to count occurances of an element in a list.\n",
    "mylist=[2,1,0,5,1,5,2,3,2,1,0,5,1,5,2,3]\n",
    "element=int(input(\"Enter the element: \"))\n",
    "count=mylist.count(element)\n",
    "print(\"The element occurs\",count,\"times.\")"
   ]
  },
  {
   "cell_type": "code",
   "execution_count": 100,
   "id": "d4ea2553",
   "metadata": {},
   "outputs": [
    {
     "name": "stdout",
     "output_type": "stream",
     "text": [
      "[0]\n",
      "[0, 1]\n",
      "[0, 1]\n",
      "[0, 1]\n",
      "[0, 1, 2]\n",
      "[0, 1, 2]\n",
      "[0, 1, 2]\n",
      "[0, 1, 2, 3]\n",
      "[0, 1, 2, 3]\n",
      "[0, 1, 2, 3, 4]\n",
      "[0, 1, 2, 3, 4, 5]\n",
      "[0, 1, 2, 3, 4, 5]\n",
      "[0, 1, 2, 3, 4, 5, 6]\n",
      "[0, 1, 2, 3, 4, 5, 6, 8]\n",
      "Second largest is 6\n"
     ]
    }
   ],
   "source": [
    "#Python program to find second largest element in a list.\n",
    "mylist=[2,1,0,5,1,5,2,3,6,3,4,1,2,8]\n",
    "mylist.sort()\n",
    "newlist=[]\n",
    "for int in mylist:\n",
    "    if int not in newlist:\n",
    "        newlist.append(int)\n",
    "    print(newlist)\n",
    "i=len(newlist)\n",
    "print(\"Second largest is\",i-2)"
   ]
  },
  {
   "cell_type": "code",
   "execution_count": 105,
   "id": "3d904b56",
   "metadata": {},
   "outputs": [
    {
     "name": "stdout",
     "output_type": "stream",
     "text": [
      "Even: 7\n",
      "Odd: 7\n"
     ]
    }
   ],
   "source": [
    "#Python program to count even and odd numbers in a list.\n",
    "mylist=[2,1,0,5,1,5,2,3,6,3,4,1,2,8]\n",
    "even_count=0\n",
    "odd_count=0\n",
    "for num in mylist:\n",
    "    if num%2==0:\n",
    "        even_count+=1\n",
    "    else:\n",
    "        odd_count+=1\n",
    "print(\"Even:\",even_count)\n",
    "print(\"Odd:\",odd_count)"
   ]
  },
  {
   "cell_type": "code",
   "execution_count": 106,
   "id": "c60a83bc",
   "metadata": {},
   "outputs": [
    {
     "name": "stdout",
     "output_type": "stream",
     "text": [
      "Positive: 8\n",
      "Negetive: 6\n"
     ]
    }
   ],
   "source": [
    "#Python program to count positive and negetive numbers in a list.\n",
    "mylist=[2,-1,0,-5,1,5,-2,3,6,-3,4,1,-2,8]\n",
    "pos_count=0\n",
    "neg_count=0\n",
    "for num in mylist:\n",
    "    if num>0:\n",
    "        pos_count+=1\n",
    "    else:\n",
    "        neg_count+=1\n",
    "print(\"Positive:\",pos_count)\n",
    "print(\"Negetive:\",neg_count)"
   ]
  },
  {
   "cell_type": "code",
   "execution_count": 117,
   "id": "a80d30b5",
   "metadata": {},
   "outputs": [
    {
     "name": "stdout",
     "output_type": "stream",
     "text": [
      "['kappala', 21051523, 'tanvi', 'ananya', 21051523, 'CSE36', 'QC05', 'TTLab', 21051523]\n",
      "[21051523, 'tanvi', 'ananya', 21051523, 'CSE36', 'QC05', 'TTLab', 21051523]\n",
      "[21051523, 'ananya', 21051523, 'CSE36', 'QC05', 'TTLab', 21051523]\n",
      "['ananya', 21051523, 'CSE36', 'QC05', 'TTLab', 21051523]\n",
      "['ananya', 21051523, 'CSE36', 'TTLab', 21051523]\n",
      "['ananya', 'CSE36', 'TTLab', 21051523]\n"
     ]
    }
   ],
   "source": [
    "#Remove multiple elements from a list in python.\n",
    "mylist=[\"kappala\",21051523,\"tanvi\",\"ananya\",21051523,\"CSE36\",\"QC05\",\"TTLab\",21051523]\n",
    "print(mylist)\n",
    "for str in mylist:\n",
    "    if str in mylist:\n",
    "        mylist.remove(str)\n",
    "    print(mylist)"
   ]
  },
  {
   "cell_type": "code",
   "execution_count": 118,
   "id": "067e3cb4",
   "metadata": {},
   "outputs": [
    {
     "name": "stdout",
     "output_type": "stream",
     "text": [
      "[2, 1, 0, 5, 1, 5, 2, 3, 6, 3, 4, 1, 2, 8]\n",
      "Duplicate elements: {1, 2, 3, 5}\n"
     ]
    }
   ],
   "source": [
    "#Python program to print duplicates from a list of integers.\n",
    "mylist=[2,1,0,5,1,5,2,3,6,3,4,1,2,8]\n",
    "print(mylist)\n",
    "seen=set()\n",
    "duplicates=set()\n",
    "for element in mylist:\n",
    "    if element in seen:\n",
    "        duplicates.add(element)\n",
    "    seen.add(element)\n",
    "print(\"Duplicate elements:\", duplicates)\n"
   ]
  },
  {
   "cell_type": "code",
   "execution_count": null,
   "id": "6f86a25f",
   "metadata": {},
   "outputs": [],
   "source": []
  }
 ],
 "metadata": {
  "kernelspec": {
   "display_name": "Python 3 (ipykernel)",
   "language": "python",
   "name": "python3"
  },
  "language_info": {
   "codemirror_mode": {
    "name": "ipython",
    "version": 3
   },
   "file_extension": ".py",
   "mimetype": "text/x-python",
   "name": "python",
   "nbconvert_exporter": "python",
   "pygments_lexer": "ipython3",
   "version": "3.11.5"
  }
 },
 "nbformat": 4,
 "nbformat_minor": 5
}
