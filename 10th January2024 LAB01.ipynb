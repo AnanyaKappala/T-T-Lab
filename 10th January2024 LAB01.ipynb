{
 "cells": [
  {
   "cell_type": "code",
   "execution_count": 1,
   "id": "812e391f",
   "metadata": {},
   "outputs": [
    {
     "name": "stdout",
     "output_type": "stream",
     "text": [
      "Hello this is my first python lab.\n"
     ]
    }
   ],
   "source": [
    "print(\"Hello this is my first python lab.\")"
   ]
  },
  {
   "cell_type": "code",
   "execution_count": 2,
   "id": "45dc8d1e",
   "metadata": {},
   "outputs": [
    {
     "name": "stdout",
     "output_type": "stream",
     "text": [
      "3\n",
      "4.5\n",
      "Ananya\n"
     ]
    }
   ],
   "source": [
    "myNumber = 3\n",
    "print(myNumber)\n",
    "myNumber2=4.5\n",
    "print(myNumber2)\n",
    "myNumber=\"Ananya\"\n",
    "print(myNumber)"
   ]
  },
  {
   "cell_type": "code",
   "execution_count": 3,
   "id": "3aaa4f56",
   "metadata": {},
   "outputs": [
    {
     "name": "stdout",
     "output_type": "stream",
     "text": [
      "[21, 40.5, 'Tanvi']\n"
     ]
    }
   ],
   "source": [
    "nums=[]\n",
    "nums.append(21)\n",
    "nums.append(40.5)\n",
    "nums.append(\"Tanvi\")\n",
    "print(nums)"
   ]
  },
  {
   "cell_type": "code",
   "execution_count": 5,
   "id": "9b6c3ad1",
   "metadata": {},
   "outputs": [],
   "source": [
    "#single line comment"
   ]
  },
  {
   "cell_type": "code",
   "execution_count": 7,
   "id": "d605c2b7",
   "metadata": {},
   "outputs": [
    {
     "name": "stdout",
     "output_type": "stream",
     "text": [
      "Enter your name Ananya\n",
      "Hello Ananya\n"
     ]
    }
   ],
   "source": [
    "name =input(\"Enter your name \")\n",
    "print(\"Hello\",name)"
   ]
  },
  {
   "cell_type": "code",
   "execution_count": 8,
   "id": "67e3ed04",
   "metadata": {},
   "outputs": [
    {
     "name": "stdout",
     "output_type": "stream",
     "text": [
      "Enter num1:26\n",
      "Enter num2:23\n",
      "Product is 598\n"
     ]
    }
   ],
   "source": [
    "num1=int(input(\"Enter num1:\"))\n",
    "num2=int(input(\"Enter num2:\"))\n",
    "num3 = num1*num2\n",
    "print(\"Product is\",num3)"
   ]
  },
  {
   "cell_type": "code",
   "execution_count": 9,
   "id": "583f9373",
   "metadata": {},
   "outputs": [
    {
     "name": "stdout",
     "output_type": "stream",
     "text": [
      "Num1 is good\n"
     ]
    }
   ],
   "source": [
    "num1 =34\n",
    "if(num1>12):\n",
    "    print(\"Num1 is good\")\n",
    "elif(num1>35):\n",
    "    print(\"Num2 is not good\")\n",
    "else:\n",
    "    print(\"Num2 is great\")"
   ]
  },
  {
   "cell_type": "code",
   "execution_count": 12,
   "id": "a86b4fa2",
   "metadata": {},
   "outputs": [
    {
     "name": "stdout",
     "output_type": "stream",
     "text": [
      "Tanvi\n",
      "Ananya\n",
      "Tanvi\n",
      "Ananya\n"
     ]
    }
   ],
   "source": [
    "def name():\n",
    "    print(\"Tanvi\")\n",
    "    print(\"Ananya\")\n",
    "name()\n",
    "name()"
   ]
  },
  {
   "cell_type": "code",
   "execution_count": 15,
   "id": "19c3d3dd",
   "metadata": {},
   "outputs": [
    {
     "name": "stdout",
     "output_type": "stream",
     "text": [
      "Started\n"
     ]
    }
   ],
   "source": [
    "def getInteger(): \n",
    "    result = int(input(\"Enter integer: \")) \n",
    "    return result \n",
    "def Main(): \n",
    "    print(\"Started\")  \n",
    "if __name__==\"__main__\": \n",
    "    Main()"
   ]
  },
  {
   "cell_type": "code",
   "execution_count": 16,
   "id": "fdbd56c7",
   "metadata": {},
   "outputs": [
    {
     "name": "stdout",
     "output_type": "stream",
     "text": [
      "0\n",
      "1\n",
      "2\n",
      "3\n",
      "4\n"
     ]
    }
   ],
   "source": [
    "for step in range(5):\n",
    "    print(step)"
   ]
  },
  {
   "cell_type": "code",
   "execution_count": 18,
   "id": "4310f7b9",
   "metadata": {},
   "outputs": [
    {
     "name": "stdout",
     "output_type": "stream",
     "text": [
      "85.0\n"
     ]
    }
   ],
   "source": [
    "import math\n",
    "def Main():\n",
    "    num=-85\n",
    "    num=math.fabs(num)\n",
    "    print(num)\n",
    "if __name__==\"__main__\":\n",
    "    Main()"
   ]
  },
  {
   "cell_type": "code",
   "execution_count": 19,
   "id": "5ce6f17a",
   "metadata": {},
   "outputs": [
    {
     "name": "stdout",
     "output_type": "stream",
     "text": [
      "0\n",
      "1\n",
      "2\n",
      "3\n",
      "4\n"
     ]
    }
   ],
   "source": [
    "step=0\n",
    "while(step<5):\n",
    "    print(step)\n",
    "    step=step+1"
   ]
  },
  {
   "cell_type": "code",
   "execution_count": 20,
   "id": "5190ad34",
   "metadata": {},
   "outputs": [
    {
     "name": "stdout",
     "output_type": "stream",
     "text": [
      "{'Kappala', 'Ananya', 'Tanvi'}\n"
     ]
    }
   ],
   "source": [
    "myset = set([\"Kappala\",\"Tanvi\",\"Ananya\"])\n",
    "print(myset)"
   ]
  },
  {
   "cell_type": "code",
   "execution_count": 21,
   "id": "57f9d691",
   "metadata": {},
   "outputs": [
    {
     "name": "stdout",
     "output_type": "stream",
     "text": [
      "The list of keywords is: \n",
      "['False', 'None', 'True', 'and', 'as', 'assert', 'async', 'await', 'break', 'class', 'continue', 'def', 'del', 'elif', 'else', 'except', 'finally', 'for', 'from', 'global', 'if', 'import', 'in', 'is', 'lambda', 'nonlocal', 'not', 'or', 'pass', 'raise', 'return', 'try', 'while', 'with', 'yield']\n"
     ]
    }
   ],
   "source": [
    "import keyword\n",
    "print(\"The list of keywords is: \")\n",
    "print(keyword.kwlist)"
   ]
  },
  {
   "cell_type": "code",
   "execution_count": 22,
   "id": "63325713",
   "metadata": {},
   "outputs": [
    {
     "name": "stdout",
     "output_type": "stream",
     "text": [
      "True\n",
      "True\n",
      "3\n",
      "1\n",
      "False\n",
      "False\n"
     ]
    }
   ],
   "source": [
    "print(False==0)\n",
    "print(True==1)\n",
    "print(True+True+True)\n",
    "print(True+False+False)\n",
    "print(None==0)\n",
    "print(None==[])"
   ]
  },
  {
   "cell_type": "code",
   "execution_count": 25,
   "id": "2413b3f5",
   "metadata": {},
   "outputs": [
    {
     "name": "stdout",
     "output_type": "stream",
     "text": [
      "True\n",
      "False\n",
      "False\n",
      "t is a part of tanviananya\n",
      "t a n v i a n a n y a \r\n",
      "True\n",
      "True\n"
     ]
    }
   ],
   "source": [
    "print(True or False)\n",
    "print(False and True)\n",
    "print(not True)\n",
    "if 't' in 'tanviananya':\n",
    "    print(\"t is a part of tanviananya\")\n",
    "else:\n",
    "    print(\"t is not part of tanviananya\")\n",
    "for i in 'tanviananya':\n",
    "    print(i,end=\" \")\n",
    "print(\"\\r\")\n",
    "print(' ' == ' ') #print(' ' is ' ')\n",
    "print({} == {}) #print({} is {})"
   ]
  },
  {
   "cell_type": "code",
   "execution_count": 26,
   "id": "f54a8fae",
   "metadata": {},
   "outputs": [
    {
     "name": "stdout",
     "output_type": "stream",
     "text": [
      "0 1 2 3 4 5 6 \n",
      "0 1 2 3 4 5 7 8 9 "
     ]
    }
   ],
   "source": [
    "for i in range(10):\n",
    "    print(i,end=\" \")\n",
    "    if i==6:\n",
    "        break\n",
    "print()\n",
    "i=0\n",
    "while i<10:\n",
    "    if i==6:\n",
    "        i+=1\n",
    "        continue\n",
    "    else:\n",
    "        print(i,end=\" \")\n",
    "    i+=1 "
   ]
  },
  {
   "cell_type": "code",
   "execution_count": 27,
   "id": "1f75a061",
   "metadata": {},
   "outputs": [
    {
     "name": "stdout",
     "output_type": "stream",
     "text": [
      "i is 20\n"
     ]
    }
   ],
   "source": [
    "i = 20\n",
    "if(i==10):\n",
    "    print(\"i is 10\")\n",
    "elif(i==20):\n",
    "    print(\"i is 20\")\n",
    "else:\n",
    "    print(\"i is not present\")"
   ]
  },
  {
   "cell_type": "code",
   "execution_count": 28,
   "id": "695a69cb",
   "metadata": {},
   "outputs": [
    {
     "name": "stdout",
     "output_type": "stream",
     "text": [
      "Inside Function\n"
     ]
    }
   ],
   "source": [
    "def fun():\n",
    "    print(\"Inside Function\")\n",
    "fun()"
   ]
  },
  {
   "cell_type": "code",
   "execution_count": 30,
   "id": "4189890a",
   "metadata": {},
   "outputs": [
    {
     "name": "stdout",
     "output_type": "stream",
     "text": [
      "mammal\n",
      "I'm a mammal\n",
      "I'm a dog\n"
     ]
    }
   ],
   "source": [
    "class Dog:\n",
    "    attr1=\"mammal\"\n",
    "    attr2=\"dog\"\n",
    "    def fun(self):\n",
    "        print(\"I'm a\",self.attr1)\n",
    "        print(\"I'm a\",self.attr2)\n",
    "Rodger=Dog()\n",
    "print(Rodger.attr1)\n",
    "Rodger.fun()"
   ]
  },
  {
   "cell_type": "code",
   "execution_count": 31,
   "id": "47f9655a",
   "metadata": {},
   "outputs": [
    {
     "name": "stdout",
     "output_type": "stream",
     "text": [
      "120\n"
     ]
    }
   ],
   "source": [
    "import math as gfg\n",
    "print(gfg.factorial(5))"
   ]
  },
  {
   "cell_type": "code",
   "execution_count": 34,
   "id": "4ce6f3b6",
   "metadata": {},
   "outputs": [],
   "source": [
    "n=10\n",
    "for i in range(n):\n",
    "    pass"
   ]
  },
  {
   "cell_type": "code",
   "execution_count": 35,
   "id": "c84a9aac",
   "metadata": {},
   "outputs": [
    {
     "name": "stdout",
     "output_type": "stream",
     "text": [
      "343\n"
     ]
    }
   ],
   "source": [
    "g=lambda x:x*x*x\n",
    "print(g(7))"
   ]
  },
  {
   "cell_type": "code",
   "execution_count": 36,
   "id": "d5a044b9",
   "metadata": {},
   "outputs": [
    {
     "name": "stdout",
     "output_type": "stream",
     "text": [
      "45\n",
      "0\n",
      "1\n",
      "3\n",
      "6\n",
      "10\n",
      "15\n",
      "21\n",
      "28\n",
      "36\n",
      "45\n"
     ]
    }
   ],
   "source": [
    "def fun():\n",
    "    S=0\n",
    "    for i in range(10):\n",
    "        S+=i\n",
    "    return S\n",
    "print(fun())\n",
    "def fun():\n",
    "    S=0\n",
    "    for i in range(10):\n",
    "        S+=i\n",
    "        yield S\n",
    "for i in fun():\n",
    "    print(i)"
   ]
  },
  {
   "cell_type": "code",
   "execution_count": 37,
   "id": "b077dc32",
   "metadata": {},
   "outputs": [
    {
     "name": "stdout",
     "output_type": "stream",
     "text": [
      "3628800\n",
      "3628800\n"
     ]
    }
   ],
   "source": [
    "import keyword\n",
    "from math import factorial\n",
    "import math\n",
    "print(math.factorial(10))\n",
    "print(factorial(10))"
   ]
  },
  {
   "cell_type": "code",
   "execution_count": 39,
   "id": "74df61cf",
   "metadata": {},
   "outputs": [
    {
     "ename": "TypeError",
     "evalue": "Both the strings are different.",
     "output_type": "error",
     "traceback": [
      "\u001b[1;31m---------------------------------------------------------------------------\u001b[0m",
      "\u001b[1;31mTypeError\u001b[0m                                 Traceback (most recent call last)",
      "Cell \u001b[1;32mIn[39], line 3\u001b[0m\n\u001b[0;32m      1\u001b[0m temp \u001b[38;5;241m=\u001b[39m \u001b[38;5;124m\"\u001b[39m\u001b[38;5;124mgeeks for geeks\u001b[39m\u001b[38;5;124m\"\u001b[39m\n\u001b[0;32m      2\u001b[0m \u001b[38;5;28;01mif\u001b[39;00m temp \u001b[38;5;241m!=\u001b[39m \u001b[38;5;124m\"\u001b[39m\u001b[38;5;124mgeeks\u001b[39m\u001b[38;5;124m\"\u001b[39m:\n\u001b[1;32m----> 3\u001b[0m     \u001b[38;5;28;01mraise\u001b[39;00m \u001b[38;5;167;01mTypeError\u001b[39;00m(\u001b[38;5;124m\"\u001b[39m\u001b[38;5;124mBoth the strings are different.\u001b[39m\u001b[38;5;124m\"\u001b[39m)\n",
      "\u001b[1;31mTypeError\u001b[0m: Both the strings are different."
     ]
    }
   ],
   "source": [
    "temp = \"geeks for geeks\"\n",
    "if temp != \"geeks\":\n",
    "    raise TypeError(\"Both the strings are different.\")"
   ]
  },
  {
   "cell_type": "code",
   "execution_count": 40,
   "id": "fec572bd",
   "metadata": {},
   "outputs": [
    {
     "name": "stdout",
     "output_type": "stream",
     "text": [
      "20\n",
      "GeeksForGeeks\n"
     ]
    },
    {
     "ename": "NameError",
     "evalue": "name 'my_variable1' is not defined",
     "output_type": "error",
     "traceback": [
      "\u001b[1;31m---------------------------------------------------------------------------\u001b[0m",
      "\u001b[1;31mNameError\u001b[0m                                 Traceback (most recent call last)",
      "Cell \u001b[1;32mIn[40], line 7\u001b[0m\n\u001b[0;32m      5\u001b[0m \u001b[38;5;28;01mdel\u001b[39;00m my_variable1\n\u001b[0;32m      6\u001b[0m \u001b[38;5;28;01mdel\u001b[39;00m my_variable2\n\u001b[1;32m----> 7\u001b[0m \u001b[38;5;28mprint\u001b[39m(my_variable1)\n\u001b[0;32m      8\u001b[0m \u001b[38;5;28mprint\u001b[39m(my_variable2)\n",
      "\u001b[1;31mNameError\u001b[0m: name 'my_variable1' is not defined"
     ]
    }
   ],
   "source": [
    "my_variable1 = 20\n",
    "my_variable2 = \"GeeksForGeeks\"\n",
    "print(my_variable1)\n",
    "print(my_variable2)\n",
    "del my_variable1\n",
    "del my_variable2\n",
    "print(my_variable1)\n",
    "print(my_variable2)"
   ]
  },
  {
   "cell_type": "code",
   "execution_count": 41,
   "id": "d32342c2",
   "metadata": {},
   "outputs": [
    {
     "name": "stdout",
     "output_type": "stream",
     "text": [
      "25\n",
      "20\n"
     ]
    }
   ],
   "source": [
    "a = 15\n",
    "b = 10\n",
    "def add():\n",
    "    c = a + b\n",
    "    print(c)\n",
    "add()\n",
    "def fun():\n",
    "    var1 = 10\n",
    " \n",
    "    def gun():\n",
    "        nonlocal var1\n",
    "         \n",
    "        var1 = var1 + 10\n",
    "        print(var1)\n",
    " \n",
    "    gun()\n",
    "fun()"
   ]
  },
  {
   "cell_type": "code",
   "execution_count": 1,
   "id": "cc52be12",
   "metadata": {},
   "outputs": [
    {
     "name": "stdout",
     "output_type": "stream",
     "text": [
      "hello\n"
     ]
    }
   ],
   "source": [
    "print(\"hello\")"
   ]
  }
 ],
 "metadata": {
  "kernelspec": {
   "display_name": "Python 3 (ipykernel)",
   "language": "python",
   "name": "python3"
  },
  "language_info": {
   "codemirror_mode": {
    "name": "ipython",
    "version": 3
   },
   "file_extension": ".py",
   "mimetype": "text/x-python",
   "name": "python",
   "nbconvert_exporter": "python",
   "pygments_lexer": "ipython3",
   "version": "3.11.5"
  }
 },
 "nbformat": 4,
 "nbformat_minor": 5
}
