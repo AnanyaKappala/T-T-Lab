{
 "cells": [
  {
   "cell_type": "code",
   "execution_count": 3,
   "id": "ad1d3fcc",
   "metadata": {},
   "outputs": [
    {
     "name": "stdout",
     "output_type": "stream",
     "text": [
      "*****\n",
      "*****\n",
      "*****\n",
      "*****\n",
      "*****\n"
     ]
    }
   ],
   "source": [
    "for i in range(5):\n",
    "    for j in range(5):\n",
    "        print(\"*\",end=\"\")\n",
    "    print()"
   ]
  },
  {
   "cell_type": "code",
   "execution_count": 6,
   "id": "9fc59029",
   "metadata": {},
   "outputs": [
    {
     "name": "stdout",
     "output_type": "stream",
     "text": [
      "11111\n",
      "22222\n",
      "33333\n",
      "44444\n",
      "55555\n"
     ]
    }
   ],
   "source": [
    "k=1\n",
    "for i in range(5):\n",
    "    for j in range(5):\n",
    "        print(k,end=\"\")\n",
    "    print()\n",
    "    k=k+1"
   ]
  },
  {
   "cell_type": "code",
   "execution_count": 12,
   "id": "10f6dd7c",
   "metadata": {},
   "outputs": [
    {
     "name": "stdout",
     "output_type": "stream",
     "text": [
      "12345\n",
      "12345\n",
      "12345\n",
      "12345\n",
      "12345\n"
     ]
    }
   ],
   "source": [
    "k=1\n",
    "for i in range(5):\n",
    "    for j in range(5):\n",
    "        print(k,end=\"\")\n",
    "        k=k+1\n",
    "    print()\n",
    "    k=1"
   ]
  },
  {
   "cell_type": "code",
   "execution_count": 13,
   "id": "834391ab",
   "metadata": {},
   "outputs": [
    {
     "name": "stdout",
     "output_type": "stream",
     "text": [
      "55555\n",
      "44444\n",
      "33333\n",
      "22222\n",
      "11111\n"
     ]
    }
   ],
   "source": [
    "k=5\n",
    "for i in range(5):\n",
    "    for j in range(5):\n",
    "        print(k,end=\"\")\n",
    "    print()\n",
    "    k=k-1"
   ]
  },
  {
   "cell_type": "code",
   "execution_count": 35,
   "id": "9ca46aaa",
   "metadata": {},
   "outputs": [
    {
     "name": "stdout",
     "output_type": "stream",
     "text": [
      "AAAAA\n",
      "BBBBB\n",
      "CCCCC\n",
      "DDDDD\n",
      "EEEEE\n"
     ]
    }
   ],
   "source": [
    "k=65\n",
    "for i in range(5):\n",
    "    for j in range(5):\n",
    "        print(chr(k),end=\"\")\n",
    "    print()\n",
    "    k=k+1"
   ]
  },
  {
   "cell_type": "code",
   "execution_count": 36,
   "id": "8283b391",
   "metadata": {},
   "outputs": [
    {
     "name": "stdout",
     "output_type": "stream",
     "text": [
      "EEEEE\n",
      "DDDDD\n",
      "CCCCC\n",
      "BBBBB\n",
      "AAAAA\n"
     ]
    }
   ],
   "source": [
    "k=69\n",
    "for i in range(5):\n",
    "    for j in range(5):\n",
    "        print(chr(k),end=\"\")\n",
    "    print()\n",
    "    k=k-1"
   ]
  },
  {
   "cell_type": "code",
   "execution_count": 43,
   "id": "8a421b8c",
   "metadata": {},
   "outputs": [
    {
     "name": "stdout",
     "output_type": "stream",
     "text": [
      "\n",
      "*\n",
      "**\n",
      "***\n",
      "****\n",
      "*****\n"
     ]
    }
   ],
   "source": [
    "for i in range (6):\n",
    "    for j in range (i):\n",
    "        print(\"*\",end=\"\")\n",
    "    print()"
   ]
  },
  {
   "cell_type": "code",
   "execution_count": 52,
   "id": "f00dae50",
   "metadata": {},
   "outputs": [
    {
     "name": "stdout",
     "output_type": "stream",
     "text": [
      "\n",
      "1\n",
      "22\n",
      "333\n",
      "4444\n",
      "55555\n"
     ]
    }
   ],
   "source": [
    "k=0\n",
    "for i in range (6):\n",
    "    for j in range (i):\n",
    "        print(k,end=\"\")\n",
    "    print()\n",
    "    k=k+1"
   ]
  },
  {
   "cell_type": "code",
   "execution_count": 55,
   "id": "0e964455",
   "metadata": {},
   "outputs": [
    {
     "name": "stdout",
     "output_type": "stream",
     "text": [
      "\n",
      "1\n",
      "12\n",
      "123\n",
      "1234\n",
      "12345\n"
     ]
    }
   ],
   "source": [
    "k=1\n",
    "for i in range (6):\n",
    "    for j in range (i):\n",
    "        print(k,end=\"\")\n",
    "        k=k+1\n",
    "    print()\n",
    "    k=1"
   ]
  },
  {
   "cell_type": "code",
   "execution_count": 57,
   "id": "37ce90b8",
   "metadata": {},
   "outputs": [
    {
     "name": "stdout",
     "output_type": "stream",
     "text": [
      "\n",
      "A\n",
      "BB\n",
      "CCC\n",
      "DDDD\n",
      "EEEEE\n"
     ]
    }
   ],
   "source": [
    "k=64\n",
    "for i in range (6):\n",
    "    for j in range (i):\n",
    "        print(chr(k),end=\"\")\n",
    "    print()\n",
    "    k=k+1"
   ]
  },
  {
   "cell_type": "code",
   "execution_count": 58,
   "id": "95fe5672",
   "metadata": {},
   "outputs": [
    {
     "name": "stdout",
     "output_type": "stream",
     "text": [
      "\n",
      "A\n",
      "AB\n",
      "ABC\n",
      "ABCD\n",
      "ABCDE\n"
     ]
    }
   ],
   "source": [
    "k=65\n",
    "for i in range (6):\n",
    "    for j in range (i):\n",
    "        print(chr(k),end=\"\")\n",
    "        k=k+1\n",
    "    print()\n",
    "    k=65"
   ]
  },
  {
   "cell_type": "code",
   "execution_count": 61,
   "id": "e0af8a6e",
   "metadata": {},
   "outputs": [
    {
     "name": "stdout",
     "output_type": "stream",
     "text": [
      "T\n",
      "TA\n",
      "TAN\n",
      "TANV\n",
      "TANVI\n"
     ]
    }
   ],
   "source": [
    "word = \"TANVI\"\n",
    "for i in range(1, len(word) + 1):\n",
    "    for j in range(1, i + 1):\n",
    "        print(word[j-1], end=\"\")\n",
    "    print()\n"
   ]
  },
  {
   "cell_type": "code",
   "execution_count": 68,
   "id": "9a319d42",
   "metadata": {},
   "outputs": [
    {
     "name": "stdout",
     "output_type": "stream",
     "text": [
      "*****\n",
      "****\n",
      "***\n",
      "**\n",
      "*\n"
     ]
    }
   ],
   "source": [
    "for i in range (5,0,-1):\n",
    "    for j in range (i,0,-1):\n",
    "        print(\"*\",end=\"\")\n",
    "    print()"
   ]
  },
  {
   "cell_type": "code",
   "execution_count": 73,
   "id": "b56c157b",
   "metadata": {},
   "outputs": [
    {
     "name": "stdout",
     "output_type": "stream",
     "text": [
      "11111\n",
      "2222\n",
      "333\n",
      "44\n",
      "5\n"
     ]
    }
   ],
   "source": [
    "k=1\n",
    "for i in range (5,0,-1):\n",
    "    for j in range (i,0,-1):\n",
    "        print(k,end=\"\")\n",
    "    print()\n",
    "    k=k+1"
   ]
  },
  {
   "cell_type": "code",
   "execution_count": 74,
   "id": "9f637bf6",
   "metadata": {},
   "outputs": [
    {
     "name": "stdout",
     "output_type": "stream",
     "text": [
      "12345\n",
      "1234\n",
      "123\n",
      "12\n",
      "1\n"
     ]
    }
   ],
   "source": [
    "k=1\n",
    "for i in range (5,0,-1):\n",
    "    for j in range (i,0,-1):\n",
    "        print(k,end=\"\")\n",
    "        k=k+1\n",
    "    print()\n",
    "    k=1"
   ]
  },
  {
   "cell_type": "code",
   "execution_count": 75,
   "id": "4bf3a53e",
   "metadata": {},
   "outputs": [
    {
     "name": "stdout",
     "output_type": "stream",
     "text": [
      "AAAAA\n",
      "BBBB\n",
      "CCC\n",
      "DD\n",
      "E\n"
     ]
    }
   ],
   "source": [
    "k=65\n",
    "for i in range (5,0,-1):\n",
    "    for j in range (i,0,-1):\n",
    "        print(chr(k),end=\"\")\n",
    "    print()\n",
    "    k=k+1"
   ]
  },
  {
   "cell_type": "code",
   "execution_count": 77,
   "id": "8d4cb6c6",
   "metadata": {},
   "outputs": [
    {
     "name": "stdout",
     "output_type": "stream",
     "text": [
      "ABCDE\n",
      "ABCD\n",
      "ABC\n",
      "AB\n",
      "A\n"
     ]
    }
   ],
   "source": [
    "k=65\n",
    "for i in range (5,0,-1):\n",
    "    for j in range (i,0,-1):\n",
    "        print(chr(k),end=\"\")\n",
    "        k=k+1\n",
    "    print()\n",
    "    k=65"
   ]
  },
  {
   "cell_type": "code",
   "execution_count": 78,
   "id": "a586f467",
   "metadata": {},
   "outputs": [
    {
     "name": "stdout",
     "output_type": "stream",
     "text": [
      "EEEEE\n",
      "DDDD\n",
      "CCC\n",
      "BB\n",
      "A\n"
     ]
    }
   ],
   "source": [
    "k=69\n",
    "for i in range (5,0,-1):\n",
    "    for j in range (i,0,-1):\n",
    "        print(chr(k),end=\"\")\n",
    "    print()\n",
    "    k=k-1"
   ]
  },
  {
   "cell_type": "code",
   "execution_count": 79,
   "id": "c93b3f56",
   "metadata": {},
   "outputs": [
    {
     "name": "stdout",
     "output_type": "stream",
     "text": [
      "EDCBA\n",
      "EDCB\n",
      "EDC\n",
      "ED\n",
      "E\n"
     ]
    }
   ],
   "source": [
    "k=69\n",
    "for i in range (5,0,-1):\n",
    "    for j in range (i,0,-1):\n",
    "        print(chr(k),end=\"\")\n",
    "        k=k-1\n",
    "    print()\n",
    "    k=69"
   ]
  },
  {
   "cell_type": "code",
   "execution_count": 87,
   "id": "7af969f8",
   "metadata": {},
   "outputs": [
    {
     "name": "stdout",
     "output_type": "stream",
     "text": [
      "PRABHU\n",
      "PRABH\n",
      "PRAB\n",
      "PRA\n",
      "PR\n",
      "P\n"
     ]
    }
   ],
   "source": [
    "word = \"PRABHU\"\n",
    "for i in range(len(word), 0, -1):\n",
    "    print(word[:i])"
   ]
  },
  {
   "cell_type": "code",
   "execution_count": 88,
   "id": "c827c21c",
   "metadata": {},
   "outputs": [
    {
     "name": "stdout",
     "output_type": "stream",
     "text": [
      "    *\n",
      "   **\n",
      "  ***\n",
      " ****\n",
      "*****\n"
     ]
    }
   ],
   "source": [
    "rows=5\n",
    "for i in range(1, rows + 1):\n",
    "    for j in range(rows, i, -1):\n",
    "        print(\" \", end=\"\")\n",
    "    for k in range(1, i + 1):\n",
    "        print(\"*\", end=\"\")\n",
    "    print()"
   ]
  },
  {
   "cell_type": "code",
   "execution_count": 89,
   "id": "f519eadf",
   "metadata": {},
   "outputs": [
    {
     "name": "stdout",
     "output_type": "stream",
     "text": [
      "    1\n",
      "   22\n",
      "  333\n",
      " 4444\n",
      "55555\n"
     ]
    }
   ],
   "source": [
    "a=1\n",
    "rows=5\n",
    "for i in range(1, rows + 1):\n",
    "    for j in range(rows, i, -1):\n",
    "        print(\" \", end=\"\")\n",
    "    for k in range(1, i + 1):\n",
    "        print(a, end=\"\")\n",
    "    print()\n",
    "    a=a+1"
   ]
  },
  {
   "cell_type": "code",
   "execution_count": 91,
   "id": "5549c413",
   "metadata": {},
   "outputs": [
    {
     "name": "stdout",
     "output_type": "stream",
     "text": [
      "    1\n",
      "   12\n",
      "  123\n",
      " 1234\n",
      "12345\n"
     ]
    }
   ],
   "source": [
    "a=1\n",
    "rows=5\n",
    "for i in range(1, rows + 1):\n",
    "    for j in range(rows, i, -1):\n",
    "        print(\" \", end=\"\")\n",
    "    for k in range(1, i + 1):\n",
    "        print(a, end=\"\")\n",
    "        a=a+1\n",
    "    print()\n",
    "    a=1"
   ]
  },
  {
   "cell_type": "code",
   "execution_count": 92,
   "id": "c2d580eb",
   "metadata": {},
   "outputs": [
    {
     "name": "stdout",
     "output_type": "stream",
     "text": [
      "    A\n",
      "   AB\n",
      "  ABC\n",
      " ABCD\n",
      "ABCDE\n"
     ]
    }
   ],
   "source": [
    "a=65\n",
    "rows=5\n",
    "for i in range(1, rows + 1):\n",
    "    for j in range(rows, i, -1):\n",
    "        print(\" \", end=\"\")\n",
    "    for k in range(1, i + 1):\n",
    "        print(chr(a), end=\"\")\n",
    "        a=a+1\n",
    "    print()\n",
    "    a=65"
   ]
  },
  {
   "cell_type": "code",
   "execution_count": 93,
   "id": "e1776f1d",
   "metadata": {},
   "outputs": [
    {
     "name": "stdout",
     "output_type": "stream",
     "text": [
      "    A\n",
      "   BB\n",
      "  CCC\n",
      " DDDD\n",
      "EEEEE\n"
     ]
    }
   ],
   "source": [
    "a=65\n",
    "rows=5\n",
    "for i in range(1, rows + 1):\n",
    "    for j in range(rows, i, -1):\n",
    "        print(\" \", end=\"\")\n",
    "    for k in range(1, i + 1):\n",
    "        print(chr(a), end=\"\")\n",
    "    print()\n",
    "    a=a+1"
   ]
  },
  {
   "cell_type": "code",
   "execution_count": 95,
   "id": "d268fb52",
   "metadata": {},
   "outputs": [
    {
     "name": "stdout",
     "output_type": "stream",
     "text": [
      "     P\n",
      "    PR\n",
      "   PRA\n",
      "  PRAB\n",
      " PRABH\n",
      "PRABHU\n"
     ]
    }
   ],
   "source": [
    "word = \"PRABHU\"\n",
    "rows = len(word)\n",
    "for i in range(rows):\n",
    "    for j in range(rows - 1, i, -1):\n",
    "        print(\" \", end=\"\")\n",
    "    for k in range(i + 1):\n",
    "        print(word[k], end=\"\")\n",
    "    print()"
   ]
  },
  {
   "cell_type": "code",
   "execution_count": 96,
   "id": "8c46cec0",
   "metadata": {},
   "outputs": [
    {
     "name": "stdout",
     "output_type": "stream",
     "text": [
      "*****\n",
      " ****\n",
      "  ***\n",
      "   **\n",
      "    *\n"
     ]
    }
   ],
   "source": [
    "rows = 5\n",
    "for i in range(rows):\n",
    "    for j in range(i):\n",
    "        print(\" \", end=\"\")\n",
    "    for k in range(rows - i):\n",
    "        print(\"*\", end=\"\")\n",
    "    print()"
   ]
  },
  {
   "cell_type": "code",
   "execution_count": 100,
   "id": "c9a8dc06",
   "metadata": {},
   "outputs": [
    {
     "name": "stdout",
     "output_type": "stream",
     "text": [
      "55555\n",
      " 4444\n",
      "  333\n",
      "   22\n",
      "    1\n"
     ]
    }
   ],
   "source": [
    "a=5\n",
    "rows = 5\n",
    "for i in range(rows):\n",
    "    for j in range(i):\n",
    "        print(\" \", end=\"\")\n",
    "    for k in range(rows - i):\n",
    "        print(a, end=\"\")\n",
    "    print()\n",
    "    a=a-1"
   ]
  },
  {
   "cell_type": "code",
   "execution_count": 101,
   "id": "e323535e",
   "metadata": {},
   "outputs": [
    {
     "name": "stdout",
     "output_type": "stream",
     "text": [
      "12345\n",
      " 1234\n",
      "  123\n",
      "   12\n",
      "    1\n"
     ]
    }
   ],
   "source": [
    "a=1\n",
    "rows = 5\n",
    "for i in range(rows):\n",
    "    for j in range(i):\n",
    "        print(\" \", end=\"\")\n",
    "    for k in range(rows - i):\n",
    "        print(a, end=\"\")\n",
    "        a=a+1\n",
    "    print()\n",
    "    a=1"
   ]
  },
  {
   "cell_type": "code",
   "execution_count": 102,
   "id": "d140331a",
   "metadata": {},
   "outputs": [
    {
     "name": "stdout",
     "output_type": "stream",
     "text": [
      "EEEEE\n",
      " DDDD\n",
      "  CCC\n",
      "   BB\n",
      "    A\n"
     ]
    }
   ],
   "source": [
    "a=69\n",
    "rows = 5\n",
    "for i in range(rows):\n",
    "    for j in range(i):\n",
    "        print(\" \", end=\"\")\n",
    "    for k in range(rows - i):\n",
    "        print(chr(a), end=\"\")\n",
    "    print()\n",
    "    a=a-1"
   ]
  },
  {
   "cell_type": "code",
   "execution_count": 103,
   "id": "685364c8",
   "metadata": {},
   "outputs": [
    {
     "name": "stdout",
     "output_type": "stream",
     "text": [
      "ABCDE\n",
      " ABCD\n",
      "  ABC\n",
      "   AB\n",
      "    A\n"
     ]
    }
   ],
   "source": [
    "a=65\n",
    "rows = 5\n",
    "for i in range(rows):\n",
    "    for j in range(i):\n",
    "        print(\" \", end=\"\")\n",
    "    for k in range(rows - i):\n",
    "        print(chr(a), end=\"\")\n",
    "        a=a+1\n",
    "    print()\n",
    "    a=65"
   ]
  },
  {
   "cell_type": "code",
   "execution_count": 104,
   "id": "c0d4a56b",
   "metadata": {},
   "outputs": [
    {
     "name": "stdout",
     "output_type": "stream",
     "text": [
      "    *\n",
      "   ***\n",
      "  *****\n",
      " *******\n",
      "*********\n"
     ]
    }
   ],
   "source": [
    "rows = 5\n",
    "for i in range(rows):\n",
    "    for j in range(rows - i - 1):\n",
    "        print(\" \", end=\"\")\n",
    "    for k in range(2 * i + 1):\n",
    "        print(\"*\", end=\"\")\n",
    "    print()"
   ]
  },
  {
   "cell_type": "code",
   "execution_count": 107,
   "id": "f0656464",
   "metadata": {},
   "outputs": [
    {
     "name": "stdout",
     "output_type": "stream",
     "text": [
      "    1\n",
      "   222\n",
      "  33333\n",
      " 4444444\n",
      "555555555\n"
     ]
    }
   ],
   "source": [
    "a=1\n",
    "rows = 5\n",
    "for i in range(rows):\n",
    "    for j in range(rows - i - 1):\n",
    "        print(\" \", end=\"\")\n",
    "    for k in range(2 * i + 1):\n",
    "        print(a, end=\"\")\n",
    "    print()\n",
    "    a=a+1"
   ]
  },
  {
   "cell_type": "code",
   "execution_count": 108,
   "id": "27ed042d",
   "metadata": {},
   "outputs": [
    {
     "name": "stdout",
     "output_type": "stream",
     "text": [
      "    1\n",
      "   333\n",
      "  55555\n",
      " 7777777\n",
      "999999999\n"
     ]
    }
   ],
   "source": [
    "a=1\n",
    "rows = 5\n",
    "for i in range(rows):\n",
    "    for j in range(rows - i - 1):\n",
    "        print(\" \", end=\"\")\n",
    "    for k in range(2 * i + 1):\n",
    "        print(a, end=\"\")\n",
    "    print()\n",
    "    a=a+2"
   ]
  },
  {
   "cell_type": "code",
   "execution_count": 109,
   "id": "34a30935",
   "metadata": {},
   "outputs": [
    {
     "name": "stdout",
     "output_type": "stream",
     "text": [
      "    1\n",
      "   123\n",
      "  12345\n",
      " 1234567\n",
      "123456789\n"
     ]
    }
   ],
   "source": [
    "a=1\n",
    "rows = 5\n",
    "for i in range(rows):\n",
    "    for j in range(rows - i - 1):\n",
    "        print(\" \", end=\"\")\n",
    "    for k in range(2 * i + 1):\n",
    "        print(a, end=\"\")\n",
    "        a=a+1\n",
    "    print()\n",
    "    a=1"
   ]
  },
  {
   "cell_type": "code",
   "execution_count": 115,
   "id": "8a799ce8",
   "metadata": {},
   "outputs": [
    {
     "name": "stdout",
     "output_type": "stream",
     "text": [
      "    1\n",
      "   321\n",
      "  54321\n",
      " 7654321\n",
      "987654321\n"
     ]
    }
   ],
   "source": [
    "for i in range(1,6):\n",
    "    for j in range(5-i):\n",
    "        print(\" \", end=\"\")\n",
    "    for k in range(2 * i - 1, 0, -1):\n",
    "        print(k, end=\"\")\n",
    "    print()\n"
   ]
  },
  {
   "cell_type": "code",
   "execution_count": 116,
   "id": "441c2f72",
   "metadata": {},
   "outputs": [
    {
     "name": "stdout",
     "output_type": "stream",
     "text": [
      "    A\n",
      "   BBB\n",
      "  CCCCC\n",
      " DDDDDDD\n",
      "EEEEEEEEE\n"
     ]
    }
   ],
   "source": [
    "a=65\n",
    "rows = 5\n",
    "for i in range(rows):\n",
    "    for j in range(rows - i - 1):\n",
    "        print(\" \", end=\"\")\n",
    "    for k in range(2 * i + 1):\n",
    "        print(chr(a), end=\"\")\n",
    "    print()\n",
    "    a=a+1"
   ]
  },
  {
   "cell_type": "code",
   "execution_count": 117,
   "id": "ddf05739",
   "metadata": {},
   "outputs": [
    {
     "name": "stdout",
     "output_type": "stream",
     "text": [
      "    A\n",
      "   CCC\n",
      "  EEEEE\n",
      " GGGGGGG\n",
      "IIIIIIIII\n"
     ]
    }
   ],
   "source": [
    "a=65\n",
    "rows = 5\n",
    "for i in range(rows):\n",
    "    for j in range(rows - i - 1):\n",
    "        print(\" \", end=\"\")\n",
    "    for k in range(2 * i + 1):\n",
    "        print(chr(a), end=\"\")\n",
    "    print()\n",
    "    a=a+2"
   ]
  },
  {
   "cell_type": "code",
   "execution_count": 118,
   "id": "f85dd5d4",
   "metadata": {},
   "outputs": [
    {
     "name": "stdout",
     "output_type": "stream",
     "text": [
      "    A\n",
      "   ABC\n",
      "  ABCDE\n",
      " ABCDEFG\n",
      "ABCDEFGHI\n"
     ]
    }
   ],
   "source": [
    "a=65\n",
    "rows = 5\n",
    "for i in range(rows):\n",
    "    for j in range(rows - i - 1):\n",
    "        print(\" \", end=\"\")\n",
    "    for k in range(2 * i + 1):\n",
    "        print(chr(a), end=\"\")\n",
    "        a=a+1\n",
    "    print()\n",
    "    a=65"
   ]
  },
  {
   "cell_type": "code",
   "execution_count": 130,
   "id": "0fd2e877",
   "metadata": {},
   "outputs": [
    {
     "name": "stdout",
     "output_type": "stream",
     "text": [
      "    A\n",
      "   CBA\n",
      "  EDCBA\n",
      " GFEDCBA\n",
      "IHGFEDCBA\n"
     ]
    }
   ],
   "source": [
    "for i in range(1,6):\n",
    "    for j in range(5-i):\n",
    "        print(\" \", end=\"\")\n",
    "    for k in range(65+2 * i - 2, 64, -1):\n",
    "        print(chr(k), end=\"\")\n",
    "        a=a+1\n",
    "    print()"
   ]
  },
  {
   "cell_type": "code",
   "execution_count": 131,
   "id": "6fac6b93",
   "metadata": {},
   "outputs": [
    {
     "name": "stdout",
     "output_type": "stream",
     "text": [
      "*\n",
      "**\n",
      "***\n",
      "****\n",
      "*****\n",
      "****\n",
      "***\n",
      "**\n",
      "*\n"
     ]
    }
   ],
   "source": [
    "rows = 5\n",
    "for i in range(1, rows + 1):\n",
    "    for j in range(i):\n",
    "        print(\"*\", end=\"\")\n",
    "    print()\n",
    "for i in range(rows - 1, 0, -1):\n",
    "    for j in range(i):\n",
    "        print(\"*\", end=\"\")\n",
    "    print()\n"
   ]
  },
  {
   "cell_type": "code",
   "execution_count": 132,
   "id": "12c56a8c",
   "metadata": {},
   "outputs": [
    {
     "name": "stdout",
     "output_type": "stream",
     "text": [
      "P\n",
      "PR\n",
      "PRA\n",
      "PRAB\n",
      "PRABH\n",
      "PRABHU\n",
      "PRABH\n",
      "PRAB\n",
      "PRA\n",
      "PR\n",
      "P\n"
     ]
    }
   ],
   "source": [
    "word = \"PRABHU\"\n",
    "for i in range(1, len(word) + 1):\n",
    "    print(word[:i])\n",
    "for i in range(len(word) - 1, 0, -1):\n",
    "    print(word[:i])"
   ]
  },
  {
   "cell_type": "code",
   "execution_count": 133,
   "id": "4f168fd9",
   "metadata": {},
   "outputs": [
    {
     "name": "stdout",
     "output_type": "stream",
     "text": [
      "**********\n",
      "****  ****\n",
      "***    ***\n",
      "**      **\n",
      "*        *\n"
     ]
    }
   ],
   "source": [
    "rows = 5 \n",
    "for i in range(rows):\n",
    "    for j in range(rows - i):\n",
    "        print(\"*\", end=\"\")\n",
    "    for k in range(2 * i):\n",
    "        print(\" \", end=\"\")\n",
    "    for l in range(rows - i):\n",
    "        print(\"*\", end=\"\")\n",
    "    print()"
   ]
  },
  {
   "cell_type": "code",
   "execution_count": 135,
   "id": "7794d5a6",
   "metadata": {},
   "outputs": [
    {
     "name": "stdout",
     "output_type": "stream",
     "text": [
      "*        *\n",
      "**      **\n",
      "***    ***\n",
      "****  ****\n",
      "**********\n"
     ]
    }
   ],
   "source": [
    "rows = 5 \n",
    "for i in range(rows):\n",
    "    for j in range(i + 1):\n",
    "        print(\"*\", end=\"\")\n",
    "    for k in range(2 * (rows - i - 1)):\n",
    "        print(\" \", end=\"\")\n",
    "    for l in range(i + 1):\n",
    "        print(\"*\", end=\"\")\n",
    "    print()"
   ]
  },
  {
   "cell_type": "code",
   "execution_count": 137,
   "id": "e34ecdc3",
   "metadata": {},
   "outputs": [
    {
     "name": "stdout",
     "output_type": "stream",
     "text": [
      "**********\n",
      "****  ****\n",
      "***    ***\n",
      "**      **\n",
      "*        *\n",
      "*        *\n",
      "**      **\n",
      "***    ***\n",
      "****  ****\n",
      "**********\n"
     ]
    }
   ],
   "source": [
    "rows = 5 \n",
    "for i in range(rows):\n",
    "    for j in range(rows - i):\n",
    "        print(\"*\", end=\"\")\n",
    "    for k in range(2 * i):\n",
    "        print(\" \", end=\"\")\n",
    "    for l in range(rows - i):\n",
    "        print(\"*\", end=\"\")\n",
    "    print()\n",
    "for i in range(rows):\n",
    "    for j in range(i + 1):\n",
    "        print(\"*\", end=\"\")\n",
    "    for k in range(2 * (rows - i - 1)):\n",
    "        print(\" \", end=\"\")\n",
    "    for l in range(i + 1):\n",
    "        print(\"*\", end=\"\")\n",
    "    print()"
   ]
  }
 ],
 "metadata": {
  "kernelspec": {
   "display_name": "Python 3 (ipykernel)",
   "language": "python",
   "name": "python3"
  },
  "language_info": {
   "codemirror_mode": {
    "name": "ipython",
    "version": 3
   },
   "file_extension": ".py",
   "mimetype": "text/x-python",
   "name": "python",
   "nbconvert_exporter": "python",
   "pygments_lexer": "ipython3",
   "version": "3.11.5"
  }
 },
 "nbformat": 4,
 "nbformat_minor": 5
}
